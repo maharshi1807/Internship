{
 "cells": [
  {
   "cell_type": "code",
   "execution_count": 1,
   "id": "27ea78f7",
   "metadata": {},
   "outputs": [
    {
     "name": "stdout",
     "output_type": "stream",
     "text": [
      "Answer:d) Collinearity\n"
     ]
    }
   ],
   "source": [
    "#(41)Among the following identify the one in which dimensionality reduction reduces.\n",
    "print('Answer:d) Collinearity')"
   ]
  },
  {
   "cell_type": "code",
   "execution_count": 2,
   "id": "bca57e7a",
   "metadata": {},
   "outputs": [
    {
     "name": "stdout",
     "output_type": "stream",
     "text": [
      "Answer:b) Random Forest\n"
     ]
    }
   ],
   "source": [
    "#(42) Which of the following machine learning algorithm is based upon the idea of bagging?\n",
    "print('Answer:b) Random Forest')"
   ]
  },
  {
   "cell_type": "code",
   "execution_count": 3,
   "id": "15fa86e9",
   "metadata": {},
   "outputs": [
    {
     "name": "stdout",
     "output_type": "stream",
     "text": [
      "Answer:c) Decision Tree are prone to overfit\n"
     ]
    }
   ],
   "source": [
    "#(43) Choose a disadvantage of decision trees among the following.\n",
    "print('Answer:c) Decision Tree are prone to overfit')\n"
   ]
  },
  {
   "cell_type": "code",
   "execution_count": 4,
   "id": "50dac947",
   "metadata": {},
   "outputs": [
    {
     "name": "stdout",
     "output_type": "stream",
     "text": [
      "Answer:c) Training data\n"
     ]
    }
   ],
   "source": [
    "#(44)What is the term known as on which the machine learning algorithms build a model based on \n",
    "#sample data?\n",
    "print('Answer:c) Training data')"
   ]
  },
  {
   "cell_type": "code",
   "execution_count": 5,
   "id": "f93be0d9",
   "metadata": {},
   "outputs": [
    {
     "name": "stdout",
     "output_type": "stream",
     "text": [
      "Answer:c) Anamoly detection\n"
     ]
    }
   ],
   "source": [
    "#(45)Which of the following machine learning techniques helps in detecting the outliers in data?\n",
    "print('Answer:c) Anamoly detection')"
   ]
  },
  {
   "cell_type": "code",
   "execution_count": 6,
   "id": "1efa66ec",
   "metadata": {},
   "outputs": [
    {
     "name": "stdout",
     "output_type": "stream",
     "text": [
      "Answer:c) Case based\n"
     ]
    }
   ],
   "source": [
    "#(46)Identify the incorrect numerical functions in the various function representation of machine \n",
    "#learning.\n",
    "\n",
    "print('Answer:c) Case based')"
   ]
  },
  {
   "cell_type": "code",
   "execution_count": 7,
   "id": "80593254",
   "metadata": {},
   "outputs": [
    {
     "name": "stdout",
     "output_type": "stream",
     "text": [
      "Answer:d) Both a and b\n"
     ]
    }
   ],
   "source": [
    "#(47)Analysis of ML algorithm needs\n",
    "print('Answer:d) Both a and b')"
   ]
  },
  {
   "cell_type": "code",
   "execution_count": 9,
   "id": "3f2a15fa",
   "metadata": {},
   "outputs": [
    {
     "name": "stdout",
     "output_type": "stream",
     "text": [
      "Answer:c) Both a and b\n"
     ]
    }
   ],
   "source": [
    "#(48)Identify the difficulties with the k-nearest neighbor algorithm\n",
    "print('Answer:c) Both a and b')"
   ]
  },
  {
   "cell_type": "code",
   "execution_count": 10,
   "id": "ce32512a",
   "metadata": {},
   "outputs": [
    {
     "name": "stdout",
     "output_type": "stream",
     "text": [
      "Answer:c) 3\n"
     ]
    }
   ],
   "source": [
    "#(49)The total types of the layer in radial basis function neural networks is ______\n",
    "print('Answer:c) 3')"
   ]
  },
  {
   "cell_type": "code",
   "execution_count": 11,
   "id": "14311787",
   "metadata": {},
   "outputs": [
    {
     "name": "stdout",
     "output_type": "stream",
     "text": [
      "Answer:a) PCA\n"
     ]
    }
   ],
   "source": [
    "#(50)Which of the following is not a supervised learning\n",
    "print('Answer:a) PCA')"
   ]
  },
  {
   "cell_type": "code",
   "execution_count": null,
   "id": "5ea61e6e",
   "metadata": {},
   "outputs": [],
   "source": []
  },
  {
   "cell_type": "code",
   "execution_count": null,
   "id": "66cad4fb",
   "metadata": {},
   "outputs": [],
   "source": []
  }
 ],
 "metadata": {
  "kernelspec": {
   "display_name": "Python 3 (ipykernel)",
   "language": "python",
   "name": "python3"
  },
  "language_info": {
   "codemirror_mode": {
    "name": "ipython",
    "version": 3
   },
   "file_extension": ".py",
   "mimetype": "text/x-python",
   "name": "python",
   "nbconvert_exporter": "python",
   "pygments_lexer": "ipython3",
   "version": "3.9.13"
  }
 },
 "nbformat": 4,
 "nbformat_minor": 5
}
