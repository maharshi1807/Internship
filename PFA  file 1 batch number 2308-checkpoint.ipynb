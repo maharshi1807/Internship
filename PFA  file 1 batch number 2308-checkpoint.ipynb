{
 "cells": [
  {
   "cell_type": "code",
   "execution_count": 12,
   "id": "2d596141",
   "metadata": {},
   "outputs": [
    {
     "name": "stdout",
     "output_type": "stream",
     "text": [
      "15\n",
      "Answer (C) 15\n"
     ]
    }
   ],
   "source": [
    "# Question 1 What will be the output of the following code snippet?\n",
    "\n",
    "def func(a, b):\n",
    " return b if a == 0 else func(b % a, a)\n",
    "print(func(30, 75))\n",
    "print('Answer (C) 15')"
   ]
  },
  {
   "cell_type": "code",
   "execution_count": 13,
   "id": "fdb1b602",
   "metadata": {},
   "outputs": [
    {
     "name": "stdout",
     "output_type": "stream",
     "text": [
      "<class 'filter'>\n",
      "Answer (B) filter\n"
     ]
    }
   ],
   "source": [
    "# Question 2 numbers = (4, 7, 19, 2, 89, 45, 72, 22)\n",
    "\n",
    "numbers = (4, 7, 19, 2, 89, 45, 72, 22)\n",
    "sorted_numbers = sorted(numbers)\n",
    "even = lambda a: a % 2 == 0\n",
    "even_numbers = filter(even, sorted_numbers)\n",
    "print(type(even_numbers))\n",
    "print('Answer (B) filter')"
   ]
  },
  {
   "cell_type": "code",
   "execution_count": 11,
   "id": "d2b3b5a4",
   "metadata": {},
   "outputs": [
    {
     "name": "stdout",
     "output_type": "stream",
     "text": [
      "Answer (A) Tuple\n"
     ]
    }
   ],
   "source": [
    "# Question 3As what datatype are the *args stored, when passed into\n",
    "\n",
    "print('Answer (A) Tuple')\n"
   ]
  },
  {
   "cell_type": "code",
   "execution_count": 18,
   "id": "2ec99c74",
   "metadata": {
    "scrolled": true
   },
   "outputs": [
    {
     "ename": "TypeError",
     "evalue": "unsupported operand type(s) for +: 'set' and 'set'",
     "output_type": "error",
     "traceback": [
      "\u001b[1;31m---------------------------------------------------------------------------\u001b[0m",
      "\u001b[1;31mTypeError\u001b[0m                                 Traceback (most recent call last)",
      "\u001b[1;32m~\\AppData\\Local\\Temp\\ipykernel_4916\\434704613.py\u001b[0m in \u001b[0;36m<module>\u001b[1;34m\u001b[0m\n\u001b[0;32m      3\u001b[0m \u001b[0mset2\u001b[0m \u001b[1;33m=\u001b[0m \u001b[1;33m{\u001b[0m\u001b[1;36m82\u001b[0m\u001b[1;33m,\u001b[0m \u001b[1;36m49\u001b[0m\u001b[1;33m,\u001b[0m \u001b[1;36m62\u001b[0m\u001b[1;33m}\u001b[0m\u001b[1;33m\u001b[0m\u001b[1;33m\u001b[0m\u001b[0m\n\u001b[0;32m      4\u001b[0m \u001b[0mset3\u001b[0m \u001b[1;33m=\u001b[0m \u001b[1;33m{\u001b[0m\u001b[1;36m99\u001b[0m \u001b[1;33m,\u001b[0m\u001b[1;36m22\u001b[0m\u001b[1;33m,\u001b[0m \u001b[1;36m17\u001b[0m\u001b[1;33m}\u001b[0m\u001b[1;33m\u001b[0m\u001b[1;33m\u001b[0m\u001b[0m\n\u001b[1;32m----> 5\u001b[1;33m \u001b[0mprint\u001b[0m\u001b[1;33m(\u001b[0m\u001b[0mlen\u001b[0m\u001b[1;33m(\u001b[0m\u001b[0mset1\u001b[0m \u001b[1;33m+\u001b[0m \u001b[0mset2\u001b[0m \u001b[1;33m+\u001b[0m \u001b[0mset3\u001b[0m\u001b[1;33m)\u001b[0m\u001b[1;33m)\u001b[0m\u001b[1;33m\u001b[0m\u001b[1;33m\u001b[0m\u001b[0m\n\u001b[0m\u001b[0;32m      6\u001b[0m \u001b[0mprint\u001b[0m\u001b[1;33m(\u001b[0m\u001b[1;34m'Answer:(D) Erorr'\u001b[0m\u001b[1;33m)\u001b[0m\u001b[1;33m\u001b[0m\u001b[1;33m\u001b[0m\u001b[0m\n",
      "\u001b[1;31mTypeError\u001b[0m: unsupported operand type(s) for +: 'set' and 'set'"
     ]
    }
   ],
   "source": [
    "#Question 4\n",
    "set1 = {14, 3, 55}\n",
    "set2 = {82, 49, 62}\n",
    "set3 = {99 ,22, 17}\n",
    "print(len(set1 + set2 + set3))\n",
    "print('Answer:(D) Erorr')"
   ]
  },
  {
   "cell_type": "code",
   "execution_count": 19,
   "id": "68773e00",
   "metadata": {},
   "outputs": [
    {
     "name": "stdout",
     "output_type": "stream",
     "text": [
      "Answer:(D) Erorr\n"
     ]
    }
   ],
   "source": [
    "#Question 4\n",
    "print('Answer:(D) Erorr')"
   ]
  },
  {
   "cell_type": "code",
   "execution_count": 20,
   "id": "7f101241",
   "metadata": {},
   "outputs": [
    {
     "name": "stdout",
     "output_type": "stream",
     "text": [
      "Answer:(A) raise\n"
     ]
    }
   ],
   "source": [
    "#Question 5 What keyword is used in Python to raise exceptions?\n",
    "print('Answer:(A) raise')"
   ]
  },
  {
   "cell_type": "code",
   "execution_count": 21,
   "id": "9c5897d9",
   "metadata": {},
   "outputs": [
    {
     "name": "stdout",
     "output_type": "stream",
     "text": [
      "Answer:(C) datetime \n"
     ]
    }
   ],
   "source": [
    "#question 6 Which of the following modules need to be imported to handle date time computations in Python?\n",
    "\n",
    "print('Answer:(C) datetime ')"
   ]
  },
  {
   "cell_type": "code",
   "execution_count": 23,
   "id": "d7338223",
   "metadata": {},
   "outputs": [
    {
     "name": "stdout",
     "output_type": "stream",
     "text": [
      "208\n",
      "Answer:(c) 208\n"
     ]
    }
   ],
   "source": [
    "#Question7) What will be the output of the following code snippet?\n",
    "\n",
    "print(4**3 + (7 + 5)**(1 + 1))\n",
    "print('Answer:(c) 208')\n"
   ]
  },
  {
   "cell_type": "code",
   "execution_count": 24,
   "id": "1c5c8457",
   "metadata": {},
   "outputs": [
    {
     "name": "stdout",
     "output_type": "stream",
     "text": [
      "Answer:(A) strptime\n"
     ]
    }
   ],
   "source": [
    "#question 8 Which of the following functions converts date to corresponding time in Python?\n",
    "print('Answer:(A) strptime')"
   ]
  },
  {
   "cell_type": "code",
   "execution_count": 26,
   "id": "5d4c9afc",
   "metadata": {},
   "outputs": [
    {
     "name": "stdout",
     "output_type": "stream",
     "text": [
      "Answer:(B) immutable \n"
     ]
    }
   ],
   "source": [
    "#question 9  The python tuple is _____ in nature.\n",
    "print('Answer:(B) immutable ')"
   ]
  },
  {
   "cell_type": "code",
   "execution_count": 27,
   "id": "af3c1e20",
   "metadata": {},
   "outputs": [
    {
     "name": "stdout",
     "output_type": "stream",
     "text": [
      "Answer:(A) Arange()\n"
     ]
    }
   ],
   "source": [
    "#question 10 The ___ is a built-in function that returns a range object that consists series of integer numbers, which we can iterate using a for loop\n",
    "print('Answer:(A) Arange()')\n"
   ]
  },
  {
   "cell_type": "code",
   "execution_count": 28,
   "id": "a9a11e08",
   "metadata": {},
   "outputs": [
    {
     "name": "stdout",
     "output_type": "stream",
     "text": [
      "Answer:(C) Lambda function\n"
     ]
    }
   ],
   "source": [
    "#question 11 Amongst which of the following is a function which does not have any name\n",
    "The module Pickle is used to ___.\n"
   ]
  },
  {
   "cell_type": "code",
   "execution_count": 29,
   "id": "fd0866ca",
   "metadata": {},
   "outputs": [
    {
     "name": "stdout",
     "output_type": "stream",
     "text": [
      "Answer:(c)Both A and B \n"
     ]
    }
   ],
   "source": [
    "#question 12 The module Pickle is used to ___.\n",
    "\n",
    "\n",
    "print('Answer:(c)Both A and B ')"
   ]
  },
  {
   "cell_type": "code",
   "execution_count": 30,
   "id": "e0c9198b",
   "metadata": {},
   "outputs": [
    {
     "name": "stdout",
     "output_type": "stream",
     "text": [
      "Answer:(B) dump() method \n"
     ]
    }
   ],
   "source": [
    "#question 13 Amongst which of the following is / are the method of convert Python objects for writing data in a binary file?\n",
    "print('Answer:(B) dump() method ')\n"
   ]
  },
  {
   "cell_type": "code",
   "execution_count": 31,
   "id": "6b242a35",
   "metadata": {},
   "outputs": [
    {
     "name": "stdout",
     "output_type": "stream",
     "text": [
      "Answer:(B) set() method\n"
     ]
    }
   ],
   "source": [
    "#question 14 Amongst which of the following is / are the method used to unpickling data from a binary file?\n",
    "print('Answer:(B) set() method')"
   ]
  },
  {
   "cell_type": "code",
   "execution_count": 32,
   "id": "8250fe83",
   "metadata": {},
   "outputs": [
    {
     "name": "stdout",
     "output_type": "stream",
     "text": [
      "Answer:(D) All of the mentioned above \n"
     ]
    }
   ],
   "source": [
    "#question 15 A text file contains only textual information consisting of ___.\n",
    "print('Answer:(D) All of the mentioned above ')"
   ]
  },
  {
   "cell_type": "code",
   "execution_count": 40,
   "id": "3062a6db",
   "metadata": {},
   "outputs": [
    {
     "name": "stdout",
     "output_type": "stream",
     "text": [
      "Enterprise Picard\n",
      "Voyager Janeway\n",
      "Defiant Sisko\n",
      "Enterprise Picard\n",
      "Voyager Janeway\n",
      "Defiant Sisko\n",
      "Answer:(D) both a and b  \n"
     ]
    }
   ],
   "source": [
    "#question 16 Which Python code could replace the ellipsis (...) below to get the following output? (Select all that apply.)\n",
    "\n",
    "captains = {\n",
    " \"Enterprise\": \"Picard\",\n",
    " \"Voyager\": \"Janeway\",\n",
    " \"Defiant\": \"Sisko\",\n",
    "}\n",
    "\n",
    "\n",
    "for ship, captain in captains.items():\n",
    " print(ship, captain)\n",
    "\n",
    "for ship in captains:\n",
    " print(ship, captains[ship])\n",
    "\n",
    "print('Answer:(D) both a and b  ')\n",
    "\n",
    "\n"
   ]
  },
  {
   "cell_type": "code",
   "execution_count": 41,
   "id": "141847c7",
   "metadata": {},
   "outputs": [
    {
     "name": "stdout",
     "output_type": "stream",
     "text": [
      "Answer:(D) captains = {} \n"
     ]
    }
   ],
   "source": [
    "#question 17 Which of the following lines of code will create an empty dictionary named captains?\n",
    "print('Answer:(D) captains = {} ')"
   ]
  },
  {
   "cell_type": "code",
   "execution_count": 47,
   "id": "d30a7427",
   "metadata": {},
   "outputs": [
    {
     "name": "stdout",
     "output_type": "stream",
     "text": [
      "Answer:(B)\n"
     ]
    }
   ],
   "source": [
    "#question 18 ) Now you have your empty dictionary named captains. It’s time to add some data!\n",
    "#Specifically, you want to add the key-value pairs \"Enterprise\": \"Picard\", \"Voyager\": \"Janeway\",and \"Defiant\": \"Sisko\".\n",
    "#Which of the following code snippets will successfully add these key-value pairs to theexisting captains dictionary\n",
    "\n",
    "print('Answer:(B)')\n"
   ]
  },
  {
   "cell_type": "code",
   "execution_count": 51,
   "id": "5c89841e",
   "metadata": {},
   "outputs": [
    {
     "name": "stdout",
     "output_type": "stream",
     "text": [
      "The captain of the Enterprise is Picard.\n",
      "The captain of the Voyager is Janeway.\n",
      "The captain of the Defiant is Sisko.\n",
      "The captain of the Discovery is unknown.\n",
      "Answer:(B) \n"
     ]
    }
   ],
   "source": [
    "#question 19 You’re really building out the Federation Starfleet now! Here’s what you have:\n",
    "captains = {\n",
    " \"Enterprise\": \"Picard\",\n",
    " \"Voyager\": \"Janeway\",\n",
    " \"Defiant\": \"Sisko\",\n",
    " \"Discovery\": \"unknown\",\n",
    "}\n",
    "#Now, say you want to display the ship and captain names contained in the dictionary, but you also\n",
    "#want to provide some additional context. How could you do it?\n",
    "captains = {\n",
    " \"Enterprise\": \"Picard\",\n",
    " \"Voyager\": \"Janeway\",\n",
    " \"Defiant\": \"Sisko\",\n",
    " \"Discovery\": \"unknown\",\n",
    "}\n",
    "\n",
    "for ship, captain in captains.items():\n",
    "    print(f\"The captain of the {ship} is {captain}.\")\n",
    "print('Answer:(B) ')\n",
    "\n"
   ]
  },
  {
   "cell_type": "code",
   "execution_count": 61,
   "id": "efbf8a2a",
   "metadata": {},
   "outputs": [
    {
     "ename": "SyntaxError",
     "evalue": "invalid syntax (451119669.py, line 2)",
     "output_type": "error",
     "traceback": [
      "\u001b[1;36m  File \u001b[1;32m\"C:\\Users\\mahar_9521u5e\\AppData\\Local\\Temp\\ipykernel_4916\\451119669.py\"\u001b[1;36m, line \u001b[1;32m2\u001b[0m\n\u001b[1;33m    a for loop. Now you’re ready to delete a key from this dictionary:\u001b[0m\n\u001b[1;37m      ^\u001b[0m\n\u001b[1;31mSyntaxError\u001b[0m\u001b[1;31m:\u001b[0m invalid syntax\n"
     ]
    }
   ],
   "source": [
    "# question You’ve created a dictionary, added data, checked for the existence of keys, and iterated over it with\n",
    "a for loop. Now you’re ready to delete a key from this dictionary:\n",
    "\n",
    "\n",
    "print('Answer:(c)')"
   ]
  },
  {
   "cell_type": "code",
   "execution_count": 64,
   "id": "091dcfce",
   "metadata": {},
   "outputs": [
    {
     "name": "stdout",
     "output_type": "stream",
     "text": [
      "Answer:(c) del captains[\"Discovery\"]\n"
     ]
    }
   ],
   "source": [
    "# 20 question You’ve created a dictionary, added data, checked for the existence of keys, and iterated over it with\n",
    "#a for loop. Now you’re ready to delete a key from this dictionary:\n",
    "\n",
    "\n",
    "print('Answer:(c) del captains[\"Discovery\"]')"
   ]
  },
  {
   "cell_type": "code",
   "execution_count": null,
   "id": "ccdb6c05",
   "metadata": {},
   "outputs": [],
   "source": []
  }
 ],
 "metadata": {
  "kernelspec": {
   "display_name": "Python 3 (ipykernel)",
   "language": "python",
   "name": "python3"
  },
  "language_info": {
   "codemirror_mode": {
    "name": "ipython",
    "version": 3
   },
   "file_extension": ".py",
   "mimetype": "text/x-python",
   "name": "python",
   "nbconvert_exporter": "python",
   "pygments_lexer": "ipython3",
   "version": "3.9.13"
  }
 },
 "nbformat": 4,
 "nbformat_minor": 5
}
