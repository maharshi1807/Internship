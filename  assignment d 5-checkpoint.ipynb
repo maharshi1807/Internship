{
 "cells": [
  {
   "cell_type": "code",
   "execution_count": 1,
   "id": "095d531f",
   "metadata": {},
   "outputs": [
    {
     "name": "stdout",
     "output_type": "stream",
     "text": [
      "Answer:c) Neither feature nor number of groups is known\n"
     ]
    }
   ],
   "source": [
    "#(51) What is unsupervised learning?\n",
    "print('Answer:c) Neither feature nor number of groups is known')"
   ]
  },
  {
   "cell_type": "code",
   "execution_count": 2,
   "id": "ae4c63b7",
   "metadata": {},
   "outputs": [
    {
     "name": "stdout",
     "output_type": "stream",
     "text": [
      "Answer:b) SVG\n"
     ]
    }
   ],
   "source": [
    "#(52)Which of the following is not a machine learning algorithm?\n",
    "print('Answer:b) SVG')"
   ]
  },
  {
   "cell_type": "code",
   "execution_count": 3,
   "id": "6810dbf5",
   "metadata": {},
   "outputs": [
    {
     "name": "stdout",
     "output_type": "stream",
     "text": [
      "Answer:b) Underfitting \n"
     ]
    }
   ],
   "source": [
    "#(53)_______ is the scenario when the model fails to decipher the underlying trend in the input data\n",
    "print('Answer:b) Underfitting ')"
   ]
  },
  {
   "cell_type": "code",
   "execution_count": 4,
   "id": "c5035fa1",
   "metadata": {},
   "outputs": [
    {
     "name": "stdout",
     "output_type": "stream",
     "text": [
      "Answer:a) Reinforcement learning \n"
     ]
    }
   ],
   "source": [
    "#(54)Real-Time decisions, Game AI, Learning Tasks, Skill acquisition, and Robot Navigation are \n",
    "#applications of\n",
    "print('Answer:a) Reinforcement learning ')"
   ]
  },
  {
   "cell_type": "code",
   "execution_count": 6,
   "id": "3cc467fc",
   "metadata": {},
   "outputs": [
    {
     "name": "stdout",
     "output_type": "stream",
     "text": [
      "Answer:b) Mean squared error\n"
     ]
    }
   ],
   "source": [
    "#(55) What is called the average squared difference between classifier predicted output and actual output?\n",
    "print('Answer:b) Mean squared error')"
   ]
  },
  {
   "cell_type": "code",
   "execution_count": 5,
   "id": "968189cb",
   "metadata": {},
   "outputs": [
    {
     "name": "stdout",
     "output_type": "stream",
     "text": [
      "Answer: c) Nonlinear, binary\n"
     ]
    }
   ],
   "source": [
    "#(56)Logistic regression is a ........... regression technique that is used to model data having a ............ outcome\n",
    "print('Answer: c) Nonlinear, binary')"
   ]
  },
  {
   "cell_type": "code",
   "execution_count": 7,
   "id": "89da9f92",
   "metadata": {},
   "outputs": [
    {
     "name": "stdout",
     "output_type": "stream",
     "text": [
      "Answer:A.) supervised learning\n"
     ]
    }
   ],
   "source": [
    "#(57)You are given reviews of few netflix series marked as positive, negative and neutral. Classifying reviews of a new netflix series is an example of\n",
    "print('Answer:A.) supervised learning')"
   ]
  },
  {
   "cell_type": "code",
   "execution_count": 8,
   "id": "99421081",
   "metadata": {},
   "outputs": [
    {
     "name": "stdout",
     "output_type": "stream",
     "text": [
      "Answer: C.) both a and b \n"
     ]
    }
   ],
   "source": [
    "#(58)Following is powerful distance metrics used by Geometric model\n",
    "print('Answer: C.) both a and b ')"
   ]
  },
  {
   "cell_type": "code",
   "execution_count": 10,
   "id": "7594c27c",
   "metadata": {},
   "outputs": [
    {
     "name": "stdout",
     "output_type": "stream",
     "text": [
      "Answer: A) removing columns which have too many missing values\n"
     ]
    }
   ],
   "source": [
    "#(59) Which of the following techniques would perform better for reducing dimensions of a data set?\n",
    "print('Answer: A) removing columns which have too many missing values')"
   ]
  },
  {
   "cell_type": "code",
   "execution_count": 11,
   "id": "bd0e89da",
   "metadata": {},
   "outputs": [
    {
     "name": "stdout",
     "output_type": "stream",
     "text": [
      "Answer:C. input attribute.\n"
     ]
    }
   ],
   "source": [
    "#(60) Supervised learning and unsupervised clustering both require which is correct according to the statement.\n",
    "print('Answer:C. input attribute.')\n"
   ]
  },
  {
   "cell_type": "code",
   "execution_count": null,
   "id": "243c5d4a",
   "metadata": {},
   "outputs": [],
   "source": []
  },
  {
   "cell_type": "code",
   "execution_count": null,
   "id": "01a0a9c2",
   "metadata": {},
   "outputs": [],
   "source": []
  }
 ],
 "metadata": {
  "kernelspec": {
   "display_name": "Python 3 (ipykernel)",
   "language": "python",
   "name": "python3"
  },
  "language_info": {
   "codemirror_mode": {
    "name": "ipython",
    "version": 3
   },
   "file_extension": ".py",
   "mimetype": "text/x-python",
   "name": "python",
   "nbconvert_exporter": "python",
   "pygments_lexer": "ipython3",
   "version": "3.9.13"
  }
 },
 "nbformat": 4,
 "nbformat_minor": 5
}
