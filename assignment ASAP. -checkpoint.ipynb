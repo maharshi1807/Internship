{
 "cells": [
  {
   "cell_type": "code",
   "execution_count": 19,
   "id": "c36f012e",
   "metadata": {},
   "outputs": [],
   "source": [
    "import re"
   ]
  },
  {
   "cell_type": "code",
   "execution_count": 71,
   "id": "637d5f65",
   "metadata": {},
   "outputs": [
    {
     "name": "stdout",
     "output_type": "stream",
     "text": [
      "The string contains abbb at position 0\n"
     ]
    }
   ],
   "source": [
    "#question 1  Write a RegEx pattern in python program to check that a string contains only a certain set of characters \n",
    "#(in this case a-z, A-Z and 0-9).\n",
    "\n",
    "string =('Hello123\", \"TestString\", \"12345\", \"abcXYZ789\", \"Special@Chars ')\n",
    "pattern = re.compile('[^0-9A-Za-z ]')\n",
    "x = pattern.search(string )\n",
    "\n",
    "if x:\n",
    "    print('The string contains', m.group(), 'at position', m.start())\n",
    "else:\n",
    "    print('The string contains only digits 0-9 and letters of the English alphabet')\n"
   ]
  },
  {
   "cell_type": "code",
   "execution_count": 72,
   "id": "fbc78757",
   "metadata": {},
   "outputs": [
    {
     "name": "stdout",
     "output_type": "stream",
     "text": [
      "it's a match\n"
     ]
    }
   ],
   "source": [
    "#question 2 Write a RegEx pattern that matches a string that has an a followed by zero or more b's\n",
    "\n",
    "string = ('\"She still plays a huge role and has great input and impact,\" said Paul Annacone, Federer\\'s co-coach')\n",
    "pattern = re.compile('ab*?')\n",
    "l = pattern.search(string)\n",
    "if l:\n",
    "    print('it\\'s a match')\n",
    "else:\n",
    "    print('no match found')"
   ]
  },
  {
   "cell_type": "code",
   "execution_count": 73,
   "id": "20722321",
   "metadata": {},
   "outputs": [
    {
     "name": "stdout",
     "output_type": "stream",
     "text": [
      "It's a match\n"
     ]
    }
   ],
   "source": [
    "#question 3 Write a RegEx pattern that matches a string that has an a followed by one or more b's\n",
    "\n",
    "string = ('\"a\", \"ab\", \"abb\" ')\n",
    "pattern = re.compile('ab+?') \n",
    "y = pattern.search(string)\n",
    "\n",
    "if y:\n",
    "    print('It\\'s a match')\n",
    "else:\n",
    "    print('No match found')\n"
   ]
  },
  {
   "cell_type": "code",
   "execution_count": 74,
   "id": "f2d3326b",
   "metadata": {},
   "outputs": [
    {
     "name": "stdout",
     "output_type": "stream",
     "text": [
      "it's a match\n"
     ]
    }
   ],
   "source": [
    "#question 4 Write a RegEx pattern that matches a string that has an a followed by zero or one 'b'.\n",
    "\n",
    "string = ('Life is not a problem to be solved, but a reality to be experienced. ')\n",
    "pattern = re.compile('ab??')\n",
    "x = pattern.search(string)\n",
    "if x:\n",
    "    print('it\\'s a match')\n",
    "else:\n",
    "    print('no match found')"
   ]
  },
  {
   "cell_type": "code",
   "execution_count": 75,
   "id": "b8ded853",
   "metadata": {},
   "outputs": [
    {
     "name": "stdout",
     "output_type": "stream",
     "text": [
      "it's a match\n"
     ]
    }
   ],
   "source": [
    "#question 5 Write a RegEx pattern in python program that matches a string that has an a followed by three 'b'.\n",
    "string = ('abbb ,abbbbbcc')\n",
    "pattern = re.compile('ab{3}?')\n",
    "x = pattern.search(string)\n",
    "if x:\n",
    "    print('it\\'s a match')\n",
    "else:\n",
    "    print('no match found')"
   ]
  },
  {
   "cell_type": "code",
   "execution_count": 76,
   "id": "23226de9",
   "metadata": {},
   "outputs": [
    {
     "name": "stdout",
     "output_type": "stream",
     "text": [
      "it's a match\n"
     ]
    }
   ],
   "source": [
    "#question 6 Write a RegEx pattern in python program that matches a string that has an a followed by two to three 'b'\n",
    "string = ('aabbb ,abababa,abbb ' )\n",
    "pattern = re.compile('ab{2,3}?')\n",
    "x = pattern.search(string)\n",
    "if x:\n",
    "    print('it\\'s a match')\n",
    "else:\n",
    "    print('no match found')\n",
    "\n"
   ]
  },
  {
   "cell_type": "code",
   "execution_count": 95,
   "id": "21c18775",
   "metadata": {},
   "outputs": [
    {
     "name": "stdout",
     "output_type": "stream",
     "text": [
      "it's a match\n"
     ]
    }
   ],
   "source": [
    "#question 7 Write a Python program that matches a string that has an 'a' followed by anything, ending in 'b'.\n",
    "\n",
    "string = ('accddbbjjjb ,abasab')\n",
    "pattern = re.compile('a.*?b$')\n",
    "z = pattern.search(string)\n",
    "if z:\n",
    "    print('it\\'s a match')\n",
    "else:\n",
    "    print('no match found')"
   ]
  },
  {
   "cell_type": "code",
   "execution_count": 96,
   "id": "6e5894a6",
   "metadata": {},
   "outputs": [
    {
     "name": "stdout",
     "output_type": "stream",
     "text": [
      "tutorialspoint\n"
     ]
    }
   ],
   "source": [
    "#question 8 Write a Python program that matches a string that has an 'a' followed by anything, ending in 'b'.\n",
    "\n",
    "s = 'tutorialspoint is a great platform to enhance your skills'\n",
    "result = re.search(r'^\\w+', s)\n",
    "print (result.group())"
   ]
  },
  {
   "cell_type": "code",
   "execution_count": 98,
   "id": "e04150cb",
   "metadata": {},
   "outputs": [
    {
     "name": "stdout",
     "output_type": "stream",
     "text": [
      "skills\n"
     ]
    }
   ],
   "source": [
    "#question 9 Write a RegEx pattern in python program that matches a word at the end of a string.\n",
    "\n",
    "\n",
    "string = 'tutorialspoint is a great platform to enhance your skills'\n",
    "result = re.search(r'\\w+$', string)\n",
    "print(result.group())"
   ]
  },
  {
   "cell_type": "code",
   "execution_count": 100,
   "id": "9670ace0",
   "metadata": {},
   "outputs": [
    {
     "name": "stdout",
     "output_type": "stream",
     "text": [
      "['0132', '231875', '1458', '2725']\n"
     ]
    }
   ],
   "source": [
    "#question 10  Write a RegEx pattern in python program to find all words that are 4 digits long in a string.\n",
    "text= '01 0132 231875 1458 301 2725.'\n",
    "print(re.findall(r\"\\b\\w{4,}\\b\", text))"
   ]
  },
  {
   "cell_type": "code",
   "execution_count": null,
   "id": "6dc180e9",
   "metadata": {},
   "outputs": [],
   "source": []
  },
  {
   "cell_type": "code",
   "execution_count": null,
   "id": "e4c63ac5",
   "metadata": {},
   "outputs": [],
   "source": []
  }
 ],
 "metadata": {
  "kernelspec": {
   "display_name": "Python 3 (ipykernel)",
   "language": "python",
   "name": "python3"
  },
  "language_info": {
   "codemirror_mode": {
    "name": "ipython",
    "version": 3
   },
   "file_extension": ".py",
   "mimetype": "text/x-python",
   "name": "python",
   "nbconvert_exporter": "python",
   "pygments_lexer": "ipython3",
   "version": "3.9.13"
  }
 },
 "nbformat": 4,
 "nbformat_minor": 5
}
