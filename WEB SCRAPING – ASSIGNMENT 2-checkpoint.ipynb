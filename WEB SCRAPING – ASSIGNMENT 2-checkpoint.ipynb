{
 "cells": [
  {
   "cell_type": "code",
   "execution_count": 1,
   "id": "f65b134b",
   "metadata": {},
   "outputs": [
    {
     "name": "stdout",
     "output_type": "stream",
     "text": [
      "Requirement already satisfied: selenium in c:\\users\\mahar_9521u5e\\anaconda3\\lib\\site-packages (4.12.0)\n",
      "Requirement already satisfied: certifi>=2021.10.8 in c:\\users\\mahar_9521u5e\\anaconda3\\lib\\site-packages (from selenium) (2022.9.14)\n",
      "Requirement already satisfied: urllib3[socks]<3,>=1.26 in c:\\users\\mahar_9521u5e\\anaconda3\\lib\\site-packages (from selenium) (1.26.11)\n",
      "Requirement already satisfied: trio~=0.17 in c:\\users\\mahar_9521u5e\\anaconda3\\lib\\site-packages (from selenium) (0.22.2)\n",
      "Requirement already satisfied: trio-websocket~=0.9 in c:\\users\\mahar_9521u5e\\anaconda3\\lib\\site-packages (from selenium) (0.10.4)\n",
      "Requirement already satisfied: cffi>=1.14 in c:\\users\\mahar_9521u5e\\anaconda3\\lib\\site-packages (from trio~=0.17->selenium) (1.15.1)\n",
      "Requirement already satisfied: outcome in c:\\users\\mahar_9521u5e\\anaconda3\\lib\\site-packages (from trio~=0.17->selenium) (1.2.0)\n",
      "Requirement already satisfied: exceptiongroup>=1.0.0rc9 in c:\\users\\mahar_9521u5e\\anaconda3\\lib\\site-packages (from trio~=0.17->selenium) (1.1.3)\n",
      "Requirement already satisfied: sortedcontainers in c:\\users\\mahar_9521u5e\\anaconda3\\lib\\site-packages (from trio~=0.17->selenium) (2.4.0)\n",
      "Requirement already satisfied: attrs>=20.1.0 in c:\\users\\mahar_9521u5e\\anaconda3\\lib\\site-packages (from trio~=0.17->selenium) (21.4.0)\n",
      "Requirement already satisfied: sniffio in c:\\users\\mahar_9521u5e\\anaconda3\\lib\\site-packages (from trio~=0.17->selenium) (1.2.0)\n",
      "Requirement already satisfied: idna in c:\\users\\mahar_9521u5e\\anaconda3\\lib\\site-packages (from trio~=0.17->selenium) (3.3)\n",
      "Requirement already satisfied: wsproto>=0.14 in c:\\users\\mahar_9521u5e\\anaconda3\\lib\\site-packages (from trio-websocket~=0.9->selenium) (1.2.0)\n",
      "Requirement already satisfied: PySocks!=1.5.7,<2.0,>=1.5.6 in c:\\users\\mahar_9521u5e\\anaconda3\\lib\\site-packages (from urllib3[socks]<3,>=1.26->selenium) (1.7.1)\n",
      "Requirement already satisfied: pycparser in c:\\users\\mahar_9521u5e\\anaconda3\\lib\\site-packages (from cffi>=1.14->trio~=0.17->selenium) (2.21)\n",
      "Requirement already satisfied: h11<1,>=0.9.0 in c:\\users\\mahar_9521u5e\\anaconda3\\lib\\site-packages (from wsproto>=0.14->trio-websocket~=0.9->selenium) (0.14.0)\n"
     ]
    }
   ],
   "source": [
    "!pip install selenium"
   ]
  },
  {
   "cell_type": "code",
   "execution_count": 2,
   "id": "f2e4723f",
   "metadata": {},
   "outputs": [
    {
     "name": "stdout",
     "output_type": "stream",
     "text": [
      "Requirement already satisfied: selenium in c:\\users\\mahar_9521u5e\\anaconda3\\lib\\site-packages (4.12.0)\n",
      "Requirement already satisfied: urllib3[socks]<3,>=1.26 in c:\\users\\mahar_9521u5e\\anaconda3\\lib\\site-packages (from selenium) (1.26.11)\n",
      "Requirement already satisfied: trio~=0.17 in c:\\users\\mahar_9521u5e\\anaconda3\\lib\\site-packages (from selenium) (0.22.2)\n",
      "Requirement already satisfied: trio-websocket~=0.9 in c:\\users\\mahar_9521u5e\\anaconda3\\lib\\site-packages (from selenium) (0.10.4)\n",
      "Requirement already satisfied: certifi>=2021.10.8 in c:\\users\\mahar_9521u5e\\anaconda3\\lib\\site-packages (from selenium) (2022.9.14)\n",
      "Requirement already satisfied: outcome in c:\\users\\mahar_9521u5e\\anaconda3\\lib\\site-packages (from trio~=0.17->selenium) (1.2.0)\n",
      "Requirement already satisfied: sortedcontainers in c:\\users\\mahar_9521u5e\\anaconda3\\lib\\site-packages (from trio~=0.17->selenium) (2.4.0)\n",
      "Requirement already satisfied: attrs>=20.1.0 in c:\\users\\mahar_9521u5e\\anaconda3\\lib\\site-packages (from trio~=0.17->selenium) (21.4.0)\n",
      "Requirement already satisfied: cffi>=1.14 in c:\\users\\mahar_9521u5e\\anaconda3\\lib\\site-packages (from trio~=0.17->selenium) (1.15.1)\n",
      "Requirement already satisfied: exceptiongroup>=1.0.0rc9 in c:\\users\\mahar_9521u5e\\anaconda3\\lib\\site-packages (from trio~=0.17->selenium) (1.1.3)\n",
      "Requirement already satisfied: idna in c:\\users\\mahar_9521u5e\\anaconda3\\lib\\site-packages (from trio~=0.17->selenium) (3.3)\n",
      "Requirement already satisfied: sniffio in c:\\users\\mahar_9521u5e\\anaconda3\\lib\\site-packages (from trio~=0.17->selenium) (1.2.0)\n",
      "Requirement already satisfied: wsproto>=0.14 in c:\\users\\mahar_9521u5e\\anaconda3\\lib\\site-packages (from trio-websocket~=0.9->selenium) (1.2.0)\n",
      "Requirement already satisfied: PySocks!=1.5.7,<2.0,>=1.5.6 in c:\\users\\mahar_9521u5e\\anaconda3\\lib\\site-packages (from urllib3[socks]<3,>=1.26->selenium) (1.7.1)\n",
      "Requirement already satisfied: pycparser in c:\\users\\mahar_9521u5e\\anaconda3\\lib\\site-packages (from cffi>=1.14->trio~=0.17->selenium) (2.21)\n",
      "Requirement already satisfied: h11<1,>=0.9.0 in c:\\users\\mahar_9521u5e\\anaconda3\\lib\\site-packages (from wsproto>=0.14->trio-websocket~=0.9->selenium) (0.14.0)\n",
      "Note: you may need to restart the kernel to use updated packages.\n"
     ]
    }
   ],
   "source": [
    "pip install --upgrade selenium"
   ]
  },
  {
   "cell_type": "code",
   "execution_count": 16,
   "id": "724133ed",
   "metadata": {},
   "outputs": [],
   "source": [
    "import pandas as pd\n",
    "from selenium import webdriver\n",
    "from selenium.webdriver.common.keys import Keys\n",
    "from selenium.webdriver.common.by import By\n",
    "from selenium.webdriver.common.action_chains import ActionChains\n",
    "import time"
   ]
  },
  {
   "cell_type": "code",
   "execution_count": 17,
   "id": "91ba2228",
   "metadata": {},
   "outputs": [],
   "source": [
    "driver=webdriver.Chrome()"
   ]
  },
  {
   "cell_type": "code",
   "execution_count": 18,
   "id": "01992849",
   "metadata": {},
   "outputs": [],
   "source": [
    "\n",
    "driver.get(\"https://www.shine.com/\")\n"
   ]
  },
  {
   "cell_type": "code",
   "execution_count": 21,
   "id": "c2b310dc",
   "metadata": {},
   "outputs": [],
   "source": [
    "job_title = driver.find_element(By.XPATH,\"/html/body/div[1]/div[4]/div/div[2]/div[2]/div/form/div/div[1]/ul/li[1]/div/input\")\n",
    "job_title.send_keys(\"Data Analyst\")"
   ]
  },
  {
   "cell_type": "code",
   "execution_count": 22,
   "id": "c2437f11",
   "metadata": {},
   "outputs": [],
   "source": [
    "location = driver.find_element(By.XPATH,\"/html/body/div[1]/div[4]/div/div[2]/div[2]/div/form/div/div[1]/ul/li[2]/div/input\")\n",
    "location.send_keys(\"Bangalore\")"
   ]
  },
  {
   "cell_type": "code",
   "execution_count": 23,
   "id": "ab1849a5",
   "metadata": {},
   "outputs": [],
   "source": [
    "search_button = driver.find_element(By.XPATH, \"/html/body/div[1]/div[4]/div/div[2]/div[2]/div/form/div/div[2]/div/button\")\n",
    "search_button.click()"
   ]
  },
  {
   "cell_type": "code",
   "execution_count": null,
   "id": "34fc4cc5",
   "metadata": {},
   "outputs": [],
   "source": [
    "job_title=[]\n",
    "job_location=[]\n",
    "job_location=[]\n",
    "experience_required=[]"
   ]
  },
  {
   "cell_type": "code",
   "execution_count": 57,
   "id": "f493c819",
   "metadata": {},
   "outputs": [],
   "source": [
    "\n",
    "\n",
    "job_titles = []  \n",
    "title_tags = driver.find_elements(By.XPATH, \"/html/body/div[1]/div[1]/div[5]/div/div[1]/div[1]/div/div[1]/div[6]/div[1]/div[1]/h2/a\")\n",
    "for i in title_tags[0:10]:\n",
    "    title = i.text\n",
    "    job_titles.append(title)\n",
    "\n",
    "\n",
    "job_locations = []  \n",
    "\n",
    "location_tags = driver.find_elements(By.XPATH, \"/html/body/div[1]/div[1]/div[5]/div/div[1]/div[1]/div/div[1]/div[2]/div[1]/div[1]/div[3]/div[2]\")\n",
    "for i in location_tags[0:10]:\n",
    "    location = i.text\n",
    "    job_locations.append(location)\n",
    "\n",
    "\n",
    "company_names = []  \n",
    "\n",
    "company_tags = driver.find_elements(By.XPATH, \"/html/body/div[1]/div[1]/div[5]/div/div[1]/div[1]/div/div/div[1]/div[1]/div[1]/div[2]\")\n",
    "for i in company_tags[0:10]:\n",
    "    company = i.text\n",
    "    company_names.append(company)\n",
    "\n",
    "\n",
    "experience_required = [] \n",
    "experience_tags = driver.find_elements(By.XPATH, \"/html/body/div[1]/div[1]/div[5]/div/div[1]/div[1]/div/div/div[1]/div[1]/div[1]/div[3]/div[1]\")\n",
    "for i in experience_tags[0:10]:\n",
    "    experience = i.text\n",
    "    experience_required.append(experience)\n",
    "\n",
    "    \n",
    "    "
   ]
  },
  {
   "cell_type": "code",
   "execution_count": 58,
   "id": "e0ec7545",
   "metadata": {},
   "outputs": [
    {
     "name": "stdout",
     "output_type": "stream",
     "text": [
      "1 1 1 1\n"
     ]
    }
   ],
   "source": [
    "print(len(job_titles), len(job_locations), len(company_names), len(experience_required))\n"
   ]
  },
  {
   "cell_type": "code",
   "execution_count": 66,
   "id": "89e81d76",
   "metadata": {},
   "outputs": [
    {
     "name": "stdout",
     "output_type": "stream",
     "text": [
      "Error: Lists have different lengths.\n"
     ]
    }
   ],
   "source": [
    "if len(job_title) == len(job_location) == len(company_names) == len(experience_required):\n",
    "    # All lists have the same length, so we can create the DataFrame\n",
    "    df = pd.DataFrame({'Title': job_title, 'Location': job_location, 'Company_names': company_names, 'Experience': experience_required})\n",
    "    print(df)\n",
    "else:\n",
    "    print(\"Error: Lists have different lengths.\")\n"
   ]
  },
  {
   "cell_type": "code",
   "execution_count": null,
   "id": "ae21ce1f",
   "metadata": {},
   "outputs": [],
   "source": []
  },
  {
   "cell_type": "code",
   "execution_count": 67,
   "id": "6d93e332",
   "metadata": {},
   "outputs": [],
   "source": [
    "driver=webdriver.Chrome()"
   ]
  },
  {
   "cell_type": "code",
   "execution_count": 68,
   "id": "807da8a5",
   "metadata": {},
   "outputs": [],
   "source": [
    "#Q 2\n",
    "\n",
    "driver.get(\"https://www.shine.com/\")\n"
   ]
  },
  {
   "cell_type": "code",
   "execution_count": 75,
   "id": "842b9745",
   "metadata": {},
   "outputs": [],
   "source": [
    "job_title_input = driver.find_element(By.XPATH, \"/html/body/div[1]/div[4]/div/div[2]/div[2]/div[1]/form/div/div[1]/ul/li[1]/div/input\")\n",
    "job_title_input.send_keys(\"Data Scientist\")\n"
   ]
  },
  {
   "cell_type": "code",
   "execution_count": 80,
   "id": "d6a657bc",
   "metadata": {},
   "outputs": [],
   "source": [
    "location_input = driver.find_element(By.XPATH, \"/html/body/div[1]/div[4]/div/div[2]/div[2]/div/form/div/div[1]/ul/li[2]/div/input\")\n",
    "location_input.send_keys(\"Bangalore\")\n"
   ]
  },
  {
   "cell_type": "code",
   "execution_count": 83,
   "id": "17c36e7c",
   "metadata": {},
   "outputs": [],
   "source": [
    "search_button = driver.find_element(By.XPATH,\"/html/body/div[1]/div[4]/div/div[2]/div[2]/div[1]/form/div/div[2]/div/button\")\n",
    "search_button.click()"
   ]
  },
  {
   "cell_type": "code",
   "execution_count": 96,
   "id": "2ce3dd15",
   "metadata": {},
   "outputs": [],
   "source": [
    "job_titles = []  \n",
    "title_tags = driver.find_elements(By.XPATH, \"/html/body/div[1]/div[1]/div[5]/div/div[1]/div[1]/div/div/div[1]/div[1]/div[1]/h2/a\")\n",
    "for i in title_tags[1:11]:\n",
    "    title = i.text\n",
    "    job_titles.append(title)\n",
    "    \n",
    "job_locations = []  \n",
    "\n",
    "location_tags = driver.find_elements(By.XPATH, \"/html/body/div[1]/div[1]/div[5]/div/div[1]/div[1]/div/div/div[1]/div[1]/div[1]/div[3]/div[2]\")\n",
    "for i in location_tags[1:11]:\n",
    "    location = i.text\n",
    "    job_locations.append(location)\n",
    "   \n",
    "company_names = []\n",
    "company_tags = driver.find_elements(By.XPATH, \"//div[@class='job-list-cont']//div[@class='joblistingcomp']//div[@class='job-company']//span\")\n",
    "\n",
    "for i in company_tags[1:11]:\n",
    "    company = i.text\n",
    "    company_names.append(company)\n",
    "\n",
    "experience_required = [] \n",
    "experience_tags = driver.find_elements(By.XPATH, \"/html/body/div[1]/div[1]/div[5]/div/div[1]/div[1]/div/div/div[1]/div[1]/div[1]/div[3]/div[1]\")\n",
    "for i in experience_tags[1:11]:\n",
    "    experience = i.text\n",
    "    experience_required.append(experience)\n",
    "\n",
    "\n",
    "\n",
    "    "
   ]
  },
  {
   "cell_type": "code",
   "execution_count": 98,
   "id": "5f035d8a",
   "metadata": {},
   "outputs": [
    {
     "name": "stdout",
     "output_type": "stream",
     "text": [
      "0 0 0 0\n"
     ]
    }
   ],
   "source": [
    "print(len(job_titles), len(job_locations), len(company_names), len(experience_required))"
   ]
  },
  {
   "cell_type": "code",
   "execution_count": 99,
   "id": "a1fe01ba",
   "metadata": {},
   "outputs": [
    {
     "name": "stdout",
     "output_type": "stream",
     "text": [
      "Empty DataFrame\n",
      "Columns: [Title, Location, Company_names, Experience]\n",
      "Index: []\n"
     ]
    }
   ],
   "source": [
    "df = pd.DataFrame({'Title': job_title, 'Location': job_location, 'Company_names': company_names, 'Experience': experience_required})\n",
    "print(df)"
   ]
  },
  {
   "cell_type": "code",
   "execution_count": null,
   "id": "a756d5dd",
   "metadata": {},
   "outputs": [],
   "source": []
  },
  {
   "cell_type": "code",
   "execution_count": null,
   "id": "c6e08dee",
   "metadata": {},
   "outputs": [],
   "source": [
    "#Q3 "
   ]
  },
  {
   "cell_type": "code",
   "execution_count": 100,
   "id": "5dbf21cf",
   "metadata": {},
   "outputs": [],
   "source": [
    "import pandas as pd\n",
    "from selenium import webdriver\n",
    "from selenium.webdriver.common.keys import Keys\n",
    "from selenium.webdriver.common.by import By\n",
    "from selenium.webdriver.common.action_chains import ActionChains\n",
    "import time"
   ]
  },
  {
   "cell_type": "code",
   "execution_count": 101,
   "id": "ca6a9b36",
   "metadata": {},
   "outputs": [],
   "source": [
    "driver=webdriver.Chrome()"
   ]
  },
  {
   "cell_type": "code",
   "execution_count": null,
   "id": "8f89b76b",
   "metadata": {},
   "outputs": [],
   "source": []
  },
  {
   "cell_type": "code",
   "execution_count": 122,
   "id": "1a490513",
   "metadata": {},
   "outputs": [
    {
     "name": "stdout",
     "output_type": "stream",
     "text": [
      "Empty DataFrame\n",
      "Columns: [Job Title, Job Location, Company Name, Experience Required]\n",
      "Index: []\n"
     ]
    }
   ],
   "source": [
    "import requests\n",
    "from bs4 import BeautifulSoup\n",
    "import pandas as pd\n",
    "\n",
    "url = \"https://www.shine.com/job-search/data-scientist-jobs-in-delhi-ncr-3-to-6-lakhs\"\n",
    "response = requests.get(url)\n",
    "soup = BeautifulSoup(response.content, \"html.parser\")\n",
    "\n",
    "job_titles = []\n",
    "job_locations = []\n",
    "company_names = []\n",
    "experience_required = []\n",
    "\n",
    "for job in soup.find_all(\"li\", class_=\"search_listing\"):\n",
    "    job_titles.append(job.find(\"a\", class_=\"job_title_anchor\").text.strip())\n",
    "    job_locations.append(job.find(\"span\", class_=\"job_loc\").text.strip())\n",
    "    company_names.append(job.find(\"a\", class_=\"company_name_anchor\").text.strip())\n",
    "    experience_required.append(job.find(\"span\", class_=\"exp\").text.strip())\n",
    "\n",
    "df = pd.DataFrame(\n",
    "    {\n",
    "        \"Job Title\": job_titles[:10],\n",
    "        \"Job Location\": job_locations[:10],\n",
    "        \"Company Name\": company_names[:10],\n",
    "        \"Experience Required\": experience_required[:10],\n",
    "    }\n",
    ")\n",
    "\n",
    "print(df)\n"
   ]
  },
  {
   "cell_type": "code",
   "execution_count": null,
   "id": "54f64707",
   "metadata": {},
   "outputs": [],
   "source": []
  },
  {
   "cell_type": "code",
   "execution_count": null,
   "id": "edd060fa",
   "metadata": {},
   "outputs": [],
   "source": [
    "#Q4"
   ]
  },
  {
   "cell_type": "code",
   "execution_count": 123,
   "id": "b650930b",
   "metadata": {},
   "outputs": [],
   "source": [
    "import time\n",
    "from selenium import webdriver\n",
    "from selenium.webdriver.common.by import By\n",
    "from selenium.webdriver.common.keys import Keys\n",
    "from bs4 import BeautifulSoup\n",
    "import pandas as pd"
   ]
  },
  {
   "cell_type": "code",
   "execution_count": 131,
   "id": "ba79c917",
   "metadata": {},
   "outputs": [],
   "source": [
    "driver=webdriver.Chrome()"
   ]
  },
  {
   "cell_type": "code",
   "execution_count": 145,
   "id": "aca48153",
   "metadata": {},
   "outputs": [
    {
     "ename": "AttributeError",
     "evalue": "'WebDriver' object has no attribute 'find_element_by_xpath'",
     "output_type": "error",
     "traceback": [
      "\u001b[1;31m---------------------------------------------------------------------------\u001b[0m",
      "\u001b[1;31mAttributeError\u001b[0m                            Traceback (most recent call last)",
      "\u001b[1;32m~\\AppData\\Local\\Temp\\ipykernel_18232\\1838754009.py\u001b[0m in \u001b[0;36m<module>\u001b[1;34m\u001b[0m\n\u001b[0;32m     22\u001b[0m \u001b[1;31m# Perform the search for \"sunglasses\"\u001b[0m\u001b[1;33m\u001b[0m\u001b[1;33m\u001b[0m\u001b[0m\n\u001b[0;32m     23\u001b[0m \u001b[0msearch_query\u001b[0m \u001b[1;33m=\u001b[0m \u001b[1;34m\"sunglasses\"\u001b[0m\u001b[1;33m\u001b[0m\u001b[1;33m\u001b[0m\u001b[0m\n\u001b[1;32m---> 24\u001b[1;33m \u001b[0msearch_field\u001b[0m \u001b[1;33m=\u001b[0m \u001b[0mdriver\u001b[0m\u001b[1;33m.\u001b[0m\u001b[0mfind_element_by_xpath\u001b[0m\u001b[1;33m(\u001b[0m\u001b[1;34m\"//input[@title='Search for products, brands and more']\"\u001b[0m\u001b[1;33m)\u001b[0m\u001b[1;33m\u001b[0m\u001b[1;33m\u001b[0m\u001b[0m\n\u001b[0m\u001b[0;32m     25\u001b[0m \u001b[0msearch_field\u001b[0m\u001b[1;33m.\u001b[0m\u001b[0msend_keys\u001b[0m\u001b[1;33m(\u001b[0m\u001b[0msearch_query\u001b[0m\u001b[1;33m)\u001b[0m\u001b[1;33m\u001b[0m\u001b[1;33m\u001b[0m\u001b[0m\n\u001b[0;32m     26\u001b[0m \u001b[0msearch_button\u001b[0m \u001b[1;33m=\u001b[0m \u001b[0mdriver\u001b[0m\u001b[1;33m.\u001b[0m\u001b[0mfind_element_by_xpath\u001b[0m\u001b[1;33m(\u001b[0m\u001b[1;34m\"//button[@class='L0Z3Pu']\"\u001b[0m\u001b[1;33m)\u001b[0m\u001b[1;33m\u001b[0m\u001b[1;33m\u001b[0m\u001b[0m\n",
      "\u001b[1;31mAttributeError\u001b[0m: 'WebDriver' object has no attribute 'find_element_by_xpath'"
     ]
    }
   ],
   "source": [
    "from selenium import webdriver\n",
    "from bs4 import BeautifulSoup\n",
    "import pandas as pd\n",
    "import time\n",
    "\n",
    "driver.get(\"https://www.flipkart.com/\")\n",
    "\n",
    "\n",
    "try:\n",
    "    close_button = driver.find_element_by_xpath(\"//button[@class='_2KpZ6l _2doB4z']\")\n",
    "    close_button.click()\n",
    "except:\n",
    "    pass\n",
    "\n",
    "# Initialize a dictionary to store the scraped data\n",
    "sunglasses_data = {\n",
    "    \"Brand\": [],\n",
    "    \"ProductDescription\": [],\n",
    "    \"Price\": []\n",
    "}\n",
    "\n",
    "# Perform the search for \"sunglasses\"\n",
    "search_query = \"sunglasses\"\n",
    "search_field = driver.find_element_by_xpath(\"//input[@title='Search for products, brands and more']\")\n",
    "search_field.send_keys(search_query)\n",
    "search_button = driver.find_element_by_xpath(\"//button[@class='L0Z3Pu']\")\n",
    "search_button.click()\n",
    "\n",
    "# Scrape data for the first 100 sunglasses listings\n",
    "while len(sunglasses_data[\"Brand\"]) < 100:\n",
    "    # Get the page source and parse it with BeautifulSoup\n",
    "    page_source = driver.page_source\n",
    "    soup = BeautifulSoup(page_source, \"html.parser\")\n",
    "    \n",
    "    # Find all the sunglasses listings\n",
    "    listings = soup.find_all(\"div\", {\"class\": \"_1AtVbE\"})\n",
    "\n",
    "    for listing in listings:\n",
    "        brand = listing.find(\"div\", {\"class\": \"_2WkVRV\"}).text\n",
    "        description = listing.find(\"a\", {\"class\": \"IRpwTa\"}).text\n",
    "        price = listing.find(\"div\", {\"class\": \"_30jeq3\"}).text\n",
    "\n",
    "        sunglasses_data[\"Brand\"].append(brand)\n",
    "        sunglasses_data[\"ProductDescription\"].append(description)\n",
    "        sunglasses_data[\"Price\"].append(price)\n",
    "\n",
    "        # Check if we have collected data for 100 sunglasses listings\n",
    "        if len(sunglasses_data[\"Brand\"]) >= 100:\n",
    "            break\n",
    "\n",
    "    # Scroll down to load more listings\n",
    "    driver.execute_script(\"window.scrollTo(0, document.body.scrollHeight);\")\n",
    "    time.sleep(2)\n",
    "\n",
    "    # Click the \"Next\" button to go to the next page\n",
    "    next_button = driver.find_element_by_xpath(\"//a[text()='Next']\")\n",
    "    next_button.click()\n",
    "    time.sleep(2)\n",
    "\n",
    "# Create a DataFrame from the scraped data\n",
    "sunglasses_df = pd.DataFrame(sunglasses_data)\n",
    "\n",
    "# Save the data to a CSV file\n",
    "sunglasses_df.to_csv(\"sunglasses_data.csv\", index=False)\n",
    "\n",
    "# Close the web driver\n",
    "driver.quit()\n"
   ]
  },
  {
   "cell_type": "code",
   "execution_count": null,
   "id": "05d92479",
   "metadata": {},
   "outputs": [],
   "source": []
  },
  {
   "cell_type": "code",
   "execution_count": null,
   "id": "b52920e7",
   "metadata": {},
   "outputs": [],
   "source": []
  },
  {
   "cell_type": "code",
   "execution_count": null,
   "id": "6432d54d",
   "metadata": {},
   "outputs": [],
   "source": [
    "#Q5"
   ]
  },
  {
   "cell_type": "code",
   "execution_count": 148,
   "id": "9fe5a940",
   "metadata": {},
   "outputs": [
    {
     "name": "stdout",
     "output_type": "stream",
     "text": [
      "Scraping completed and data saved to 'iphone11_reviews.csv'.\n"
     ]
    }
   ],
   "source": [
    "import requests\n",
    "from bs4 import BeautifulSoup\n",
    "import pandas as pd\n",
    "\n",
    "# Initialize the list to store the scraped data\n",
    "reviews_data = {\n",
    "    \"Rating\": [],\n",
    "    \"ReviewSummary\": [],\n",
    "    \"FullReview\": []\n",
    "}\n",
    "\n",
    "# URL of the Flipkart product reviews page\n",
    "url = \"https://www.flipkart.com/apple-iphone-11-black-64-gb/product-reviews/itm4e5041ba101fd?pid=MOBFWQ6BXGJCEYNY&lid=LSTMOBFWQ6BXGJCEYNYZXSHRJ&marketplace=FLIPKART\"\n",
    "\n",
    "# Scrape data for the first 100 reviews\n",
    "for page in range(1, 6):  # Loop through 5 pages (20 reviews per page)\n",
    "    page_url = f\"{url}&page={page}\"\n",
    "    response = requests.get(page_url)\n",
    "\n",
    "    if response.status_code != 200:\n",
    "        print(f\"Failed to fetch data for page {page}\")\n",
    "        continue\n",
    "\n",
    "    soup = BeautifulSoup(response.text, \"html.parser\")\n",
    "    review_cards = soup.find_all(\"div\", {\"class\": \"_27M-vq\"})\n",
    "\n",
    "    for review_card in review_cards:\n",
    "        rating = review_card.find(\"div\", {\"class\": \"_3LWZlK\"}).text\n",
    "        review_summary = review_card.find(\"p\", {\"class\": \"_2-N8zT\"}).text\n",
    "        full_review = review_card.find(\"div\", {\"class\": \"t-ZTKy\"}).text\n",
    "\n",
    "        reviews_data[\"Rating\"].append(rating)\n",
    "        reviews_data[\"ReviewSummary\"].append(review_summary)\n",
    "        reviews_data[\"FullReview\"].append(full_review)\n",
    "\n",
    "        # Check if we have collected data for 100 reviews\n",
    "        if len(reviews_data[\"Rating\"]) >= 100:\n",
    "            break\n",
    "\n",
    "# Create a DataFrame from the scraped data\n",
    "reviews_df = pd.DataFrame(reviews_data)\n",
    "\n",
    "# Save the data to a CSV file\n",
    "reviews_df.to_csv(\"iphone11_reviews.csv\", index=False)\n",
    "\n",
    "print(\"Scraping completed and data saved to 'iphone11_reviews.csv'.\")\n"
   ]
  },
  {
   "cell_type": "code",
   "execution_count": null,
   "id": "92d2b983",
   "metadata": {},
   "outputs": [],
   "source": [
    "driver=webdriver.Chrome()"
   ]
  },
  {
   "cell_type": "code",
   "execution_count": null,
   "id": "c5c8836b",
   "metadata": {},
   "outputs": [],
   "source": [
    "driver.get(\"https://www.flipkart.com/\")"
   ]
  },
  {
   "cell_type": "code",
   "execution_count": null,
   "id": "3b0aff21",
   "metadata": {},
   "outputs": [],
   "source": [
    "search_field = driver.find_element(By.NAME, \"q\")\n",
    "search_field.send_keys(\"sneakers\")"
   ]
  },
  {
   "cell_type": "code",
   "execution_count": null,
   "id": "452a9922",
   "metadata": {},
   "outputs": [],
   "source": [
    "sneakers_data = {\n",
    "    \"Brand\": [],\n",
    "    \"ProductDescription\": [],\n",
    "    \"Price\": []\n",
    "}\n"
   ]
  },
  {
   "cell_type": "code",
   "execution_count": 171,
   "id": "f56644ec",
   "metadata": {},
   "outputs": [
    {
     "ename": "NoSuchWindowException",
     "evalue": "Message: no such window: target window already closed\nfrom unknown error: web view not found\n  (Session info: chrome=117.0.5938.92)\nStacktrace:\n\tGetHandleVerifier [0x00007FF6D1A17892+54818]\n\t(No symbol) [0x00007FF6D1986AC2]\n\t(No symbol) [0x00007FF6D183DA3B]\n\t(No symbol) [0x00007FF6D181DEE8]\n\t(No symbol) [0x00007FF6D18A3237]\n\t(No symbol) [0x00007FF6D18B6C6F]\n\t(No symbol) [0x00007FF6D189E883]\n\t(No symbol) [0x00007FF6D1873691]\n\t(No symbol) [0x00007FF6D18748D4]\n\tGetHandleVerifier [0x00007FF6D1D7B992+3610402]\n\tGetHandleVerifier [0x00007FF6D1DD1860+3962352]\n\tGetHandleVerifier [0x00007FF6D1DC9D4F+3930847]\n\tGetHandleVerifier [0x00007FF6D1AB3646+693206]\n\t(No symbol) [0x00007FF6D1991628]\n\t(No symbol) [0x00007FF6D198D934]\n\t(No symbol) [0x00007FF6D198DA62]\n\t(No symbol) [0x00007FF6D197E113]\n\tBaseThreadInitThunk [0x00007FFA5627257D+29]\n\tRtlUserThreadStart [0x00007FFA5748AA68+40]\n",
     "output_type": "error",
     "traceback": [
      "\u001b[1;31m---------------------------------------------------------------------------\u001b[0m",
      "\u001b[1;31mNoSuchWindowException\u001b[0m                     Traceback (most recent call last)",
      "\u001b[1;32m~\\AppData\\Local\\Temp\\ipykernel_18232\\1205098835.py\u001b[0m in \u001b[0;36m<module>\u001b[1;34m\u001b[0m\n\u001b[0;32m      1\u001b[0m \u001b[1;32mwhile\u001b[0m \u001b[0mlen\u001b[0m\u001b[1;33m(\u001b[0m\u001b[0msneakers_data\u001b[0m\u001b[1;33m[\u001b[0m\u001b[1;34m\"Brand\"\u001b[0m\u001b[1;33m]\u001b[0m\u001b[1;33m)\u001b[0m \u001b[1;33m<\u001b[0m \u001b[1;36m100\u001b[0m\u001b[1;33m:\u001b[0m\u001b[1;33m\u001b[0m\u001b[1;33m\u001b[0m\u001b[0m\n\u001b[0;32m      2\u001b[0m \u001b[1;33m\u001b[0m\u001b[0m\n\u001b[1;32m----> 3\u001b[1;33m     \u001b[0mdriver\u001b[0m\u001b[1;33m.\u001b[0m\u001b[0mexecute_script\u001b[0m\u001b[1;33m(\u001b[0m\u001b[1;34m\"window.scrollTo(0, document.body.scrollHeight);\"\u001b[0m\u001b[1;33m)\u001b[0m\u001b[1;33m\u001b[0m\u001b[1;33m\u001b[0m\u001b[0m\n\u001b[0m\u001b[0;32m      4\u001b[0m     \u001b[0mtime\u001b[0m\u001b[1;33m.\u001b[0m\u001b[0msleep\u001b[0m\u001b[1;33m(\u001b[0m\u001b[1;36m2\u001b[0m\u001b[1;33m)\u001b[0m\u001b[1;33m\u001b[0m\u001b[1;33m\u001b[0m\u001b[0m\n",
      "\u001b[1;32m~\\anaconda3\\lib\\site-packages\\selenium\\webdriver\\remote\\webdriver.py\u001b[0m in \u001b[0;36mexecute_script\u001b[1;34m(self, script, *args)\u001b[0m\n\u001b[0;32m    402\u001b[0m         \u001b[0mcommand\u001b[0m \u001b[1;33m=\u001b[0m \u001b[0mCommand\u001b[0m\u001b[1;33m.\u001b[0m\u001b[0mW3C_EXECUTE_SCRIPT\u001b[0m\u001b[1;33m\u001b[0m\u001b[1;33m\u001b[0m\u001b[0m\n\u001b[0;32m    403\u001b[0m \u001b[1;33m\u001b[0m\u001b[0m\n\u001b[1;32m--> 404\u001b[1;33m         \u001b[1;32mreturn\u001b[0m \u001b[0mself\u001b[0m\u001b[1;33m.\u001b[0m\u001b[0mexecute\u001b[0m\u001b[1;33m(\u001b[0m\u001b[0mcommand\u001b[0m\u001b[1;33m,\u001b[0m \u001b[1;33m{\u001b[0m\u001b[1;34m\"script\"\u001b[0m\u001b[1;33m:\u001b[0m \u001b[0mscript\u001b[0m\u001b[1;33m,\u001b[0m \u001b[1;34m\"args\"\u001b[0m\u001b[1;33m:\u001b[0m \u001b[0mconverted_args\u001b[0m\u001b[1;33m}\u001b[0m\u001b[1;33m)\u001b[0m\u001b[1;33m[\u001b[0m\u001b[1;34m\"value\"\u001b[0m\u001b[1;33m]\u001b[0m\u001b[1;33m\u001b[0m\u001b[1;33m\u001b[0m\u001b[0m\n\u001b[0m\u001b[0;32m    405\u001b[0m \u001b[1;33m\u001b[0m\u001b[0m\n\u001b[0;32m    406\u001b[0m     \u001b[1;32mdef\u001b[0m \u001b[0mexecute_async_script\u001b[0m\u001b[1;33m(\u001b[0m\u001b[0mself\u001b[0m\u001b[1;33m,\u001b[0m \u001b[0mscript\u001b[0m\u001b[1;33m:\u001b[0m \u001b[0mstr\u001b[0m\u001b[1;33m,\u001b[0m \u001b[1;33m*\u001b[0m\u001b[0margs\u001b[0m\u001b[1;33m)\u001b[0m\u001b[1;33m:\u001b[0m\u001b[1;33m\u001b[0m\u001b[1;33m\u001b[0m\u001b[0m\n",
      "\u001b[1;32m~\\anaconda3\\lib\\site-packages\\selenium\\webdriver\\remote\\webdriver.py\u001b[0m in \u001b[0;36mexecute\u001b[1;34m(self, driver_command, params)\u001b[0m\n\u001b[0;32m    342\u001b[0m         \u001b[0mresponse\u001b[0m \u001b[1;33m=\u001b[0m \u001b[0mself\u001b[0m\u001b[1;33m.\u001b[0m\u001b[0mcommand_executor\u001b[0m\u001b[1;33m.\u001b[0m\u001b[0mexecute\u001b[0m\u001b[1;33m(\u001b[0m\u001b[0mdriver_command\u001b[0m\u001b[1;33m,\u001b[0m \u001b[0mparams\u001b[0m\u001b[1;33m)\u001b[0m\u001b[1;33m\u001b[0m\u001b[1;33m\u001b[0m\u001b[0m\n\u001b[0;32m    343\u001b[0m         \u001b[1;32mif\u001b[0m \u001b[0mresponse\u001b[0m\u001b[1;33m:\u001b[0m\u001b[1;33m\u001b[0m\u001b[1;33m\u001b[0m\u001b[0m\n\u001b[1;32m--> 344\u001b[1;33m             \u001b[0mself\u001b[0m\u001b[1;33m.\u001b[0m\u001b[0merror_handler\u001b[0m\u001b[1;33m.\u001b[0m\u001b[0mcheck_response\u001b[0m\u001b[1;33m(\u001b[0m\u001b[0mresponse\u001b[0m\u001b[1;33m)\u001b[0m\u001b[1;33m\u001b[0m\u001b[1;33m\u001b[0m\u001b[0m\n\u001b[0m\u001b[0;32m    345\u001b[0m             \u001b[0mresponse\u001b[0m\u001b[1;33m[\u001b[0m\u001b[1;34m\"value\"\u001b[0m\u001b[1;33m]\u001b[0m \u001b[1;33m=\u001b[0m \u001b[0mself\u001b[0m\u001b[1;33m.\u001b[0m\u001b[0m_unwrap_value\u001b[0m\u001b[1;33m(\u001b[0m\u001b[0mresponse\u001b[0m\u001b[1;33m.\u001b[0m\u001b[0mget\u001b[0m\u001b[1;33m(\u001b[0m\u001b[1;34m\"value\"\u001b[0m\u001b[1;33m,\u001b[0m \u001b[1;32mNone\u001b[0m\u001b[1;33m)\u001b[0m\u001b[1;33m)\u001b[0m\u001b[1;33m\u001b[0m\u001b[1;33m\u001b[0m\u001b[0m\n\u001b[0;32m    346\u001b[0m             \u001b[1;32mreturn\u001b[0m \u001b[0mresponse\u001b[0m\u001b[1;33m\u001b[0m\u001b[1;33m\u001b[0m\u001b[0m\n",
      "\u001b[1;32m~\\anaconda3\\lib\\site-packages\\selenium\\webdriver\\remote\\errorhandler.py\u001b[0m in \u001b[0;36mcheck_response\u001b[1;34m(self, response)\u001b[0m\n\u001b[0;32m    227\u001b[0m                 \u001b[0malert_text\u001b[0m \u001b[1;33m=\u001b[0m \u001b[0mvalue\u001b[0m\u001b[1;33m[\u001b[0m\u001b[1;34m\"alert\"\u001b[0m\u001b[1;33m]\u001b[0m\u001b[1;33m.\u001b[0m\u001b[0mget\u001b[0m\u001b[1;33m(\u001b[0m\u001b[1;34m\"text\"\u001b[0m\u001b[1;33m)\u001b[0m\u001b[1;33m\u001b[0m\u001b[1;33m\u001b[0m\u001b[0m\n\u001b[0;32m    228\u001b[0m             \u001b[1;32mraise\u001b[0m \u001b[0mexception_class\u001b[0m\u001b[1;33m(\u001b[0m\u001b[0mmessage\u001b[0m\u001b[1;33m,\u001b[0m \u001b[0mscreen\u001b[0m\u001b[1;33m,\u001b[0m \u001b[0mstacktrace\u001b[0m\u001b[1;33m,\u001b[0m \u001b[0malert_text\u001b[0m\u001b[1;33m)\u001b[0m  \u001b[1;31m# type: ignore[call-arg]  # mypy is not smart enough here\u001b[0m\u001b[1;33m\u001b[0m\u001b[1;33m\u001b[0m\u001b[0m\n\u001b[1;32m--> 229\u001b[1;33m         \u001b[1;32mraise\u001b[0m \u001b[0mexception_class\u001b[0m\u001b[1;33m(\u001b[0m\u001b[0mmessage\u001b[0m\u001b[1;33m,\u001b[0m \u001b[0mscreen\u001b[0m\u001b[1;33m,\u001b[0m \u001b[0mstacktrace\u001b[0m\u001b[1;33m)\u001b[0m\u001b[1;33m\u001b[0m\u001b[1;33m\u001b[0m\u001b[0m\n\u001b[0m",
      "\u001b[1;31mNoSuchWindowException\u001b[0m: Message: no such window: target window already closed\nfrom unknown error: web view not found\n  (Session info: chrome=117.0.5938.92)\nStacktrace:\n\tGetHandleVerifier [0x00007FF6D1A17892+54818]\n\t(No symbol) [0x00007FF6D1986AC2]\n\t(No symbol) [0x00007FF6D183DA3B]\n\t(No symbol) [0x00007FF6D181DEE8]\n\t(No symbol) [0x00007FF6D18A3237]\n\t(No symbol) [0x00007FF6D18B6C6F]\n\t(No symbol) [0x00007FF6D189E883]\n\t(No symbol) [0x00007FF6D1873691]\n\t(No symbol) [0x00007FF6D18748D4]\n\tGetHandleVerifier [0x00007FF6D1D7B992+3610402]\n\tGetHandleVerifier [0x00007FF6D1DD1860+3962352]\n\tGetHandleVerifier [0x00007FF6D1DC9D4F+3930847]\n\tGetHandleVerifier [0x00007FF6D1AB3646+693206]\n\t(No symbol) [0x00007FF6D1991628]\n\t(No symbol) [0x00007FF6D198D934]\n\t(No symbol) [0x00007FF6D198DA62]\n\t(No symbol) [0x00007FF6D197E113]\n\tBaseThreadInitThunk [0x00007FFA5627257D+29]\n\tRtlUserThreadStart [0x00007FFA5748AA68+40]\n"
     ]
    }
   ],
   "source": [
    "while len(sneakers_data[\"Brand\"]) < 100:\n",
    "  \n",
    "    driver.execute_script(\"window.scrollTo(0, document.body.scrollHeight);\")\n",
    "    time.sleep(2)"
   ]
  },
  {
   "cell_type": "code",
   "execution_count": null,
   "id": "c462ceaa",
   "metadata": {},
   "outputs": [],
   "source": [
    "product_cards = driver.find_elements_by_css_selector(\"div._1AtVbE\")\n",
    "\n",
    "    for product_card in product_cards:\n",
    "        # Extract the brand, description, and price\n",
    "        brand = product_card.find_element_by_css_selector(\"div._2B099V\").text\n",
    "        description = product_card.find_element_by_css_selector(\"a.IRpwTa\").text\n",
    "        price = product_card.find_element_by_css_selector(\"div._30jeq3\").text"
   ]
  },
  {
   "cell_type": "code",
   "execution_count": null,
   "id": "9e6f2bbc",
   "metadata": {},
   "outputs": [],
   "source": [
    "sneakers_data[\"Brand\"].append(brand)\n",
    "        sneakers_data[\"ProductDescription\"].append(description)\n",
    "        sneakers_data[\"Price\"].append(price)\n"
   ]
  },
  {
   "cell_type": "code",
   "execution_count": null,
   "id": "aeb2db62",
   "metadata": {},
   "outputs": [],
   "source": [
    "if len(sneakers_data[\"Brand\"]) >= 100:\n",
    "            break"
   ]
  },
  {
   "cell_type": "code",
   "execution_count": null,
   "id": "08c90228",
   "metadata": {},
   "outputs": [],
   "source": [
    " next_button = driver.find_element_by_css_selector(\"a._1LKTO3\")\n",
    "    if next_button:\n",
    "        next_button.click()\n",
    "        time.sleep(2)\n",
    "    else:\n",
    "        break"
   ]
  },
  {
   "cell_type": "code",
   "execution_count": null,
   "id": "e62f92bf",
   "metadata": {},
   "outputs": [],
   "source": [
    "sneakers_df = pd.DataFrame(sneakers_data)\n"
   ]
  },
  {
   "cell_type": "code",
   "execution_count": null,
   "id": "03b11c1d",
   "metadata": {},
   "outputs": [],
   "source": [
    "sneakers_df.to_csv(\"sneakers_data.csv\", index=False)\n"
   ]
  },
  {
   "cell_type": "code",
   "execution_count": null,
   "id": "da48f68c",
   "metadata": {},
   "outputs": [],
   "source": []
  },
  {
   "cell_type": "code",
   "execution_count": null,
   "id": "99071a9b",
   "metadata": {},
   "outputs": [],
   "source": []
  },
  {
   "cell_type": "code",
   "execution_count": null,
   "id": "3f041d32",
   "metadata": {},
   "outputs": [],
   "source": [
    "#Q7"
   ]
  },
  {
   "cell_type": "code",
   "execution_count": 162,
   "id": "5f283e21",
   "metadata": {},
   "outputs": [],
   "source": [
    "from selenium import webdriver\n",
    "from selenium.webdriver.common.by import By\n",
    "from selenium.webdriver.common.keys import Keys"
   ]
  },
  {
   "cell_type": "code",
   "execution_count": 164,
   "id": "02ece756",
   "metadata": {},
   "outputs": [],
   "source": [
    "driver=webdriver.Chrome()"
   ]
  },
  {
   "cell_type": "code",
   "execution_count": 165,
   "id": "6b9ad174",
   "metadata": {},
   "outputs": [],
   "source": [
    "driver.get('https://www.amazon.in/')"
   ]
  },
  {
   "cell_type": "code",
   "execution_count": 166,
   "id": "dc487b87",
   "metadata": {},
   "outputs": [],
   "source": [
    "search_field = driver.find_element(By.ID, 'twotabsearchtextbox')\n",
    "search_field.send_keys('Laptop')\n",
    "search_field.send_keys(Keys.RETURN)"
   ]
  },
  {
   "cell_type": "code",
   "execution_count": 167,
   "id": "45d9a852",
   "metadata": {},
   "outputs": [],
   "source": [
    "filter_link = driver.find_element(By.PARTIAL_LINK_TEXT, 'Intel Core i7')\n",
    "filter_link.click()"
   ]
  },
  {
   "cell_type": "code",
   "execution_count": 168,
   "id": "914bd2fd",
   "metadata": {},
   "outputs": [],
   "source": [
    "titles = []\n",
    "ratings = []\n",
    "prices = []"
   ]
  },
  {
   "cell_type": "code",
   "execution_count": 169,
   "id": "790f4be5",
   "metadata": {},
   "outputs": [],
   "source": [
    "laptop_elements = driver.find_elements(By.CSS_SELECTOR, '.s-result-item')\n",
    "for laptop_element in laptop_elements[:10]:\n",
    "    try:\n",
    "        title = laptop_element.find_element(By.CSS_SELECTOR, 'span.a-text-normal').text\n",
    "    except:\n",
    "        title = 'N/A'\n",
    "    \n",
    "    try:\n",
    "        rating = laptop_element.find_element(By.CSS_SELECTOR, 'span.a-declarative span.a-icon-alt').text\n",
    "    except:\n",
    "        rating = 'N/A'\n",
    "\n",
    "    try:\n",
    "        price = laptop_element.find_element(By.CSS_SELECTOR, 'span.a-price-whole').text\n",
    "    except:\n",
    "        price = 'N/A'\n",
    "\n",
    "    titles.append(title)\n",
    "    ratings.append(rating)\n",
    "    prices.append(price)"
   ]
  },
  {
   "cell_type": "code",
   "execution_count": 170,
   "id": "80497c42",
   "metadata": {},
   "outputs": [
    {
     "name": "stdout",
     "output_type": "stream",
     "text": [
      "Title: N/A\n",
      "Rating: N/A\n",
      "Price: N/A\n",
      "--------------------------------------------------\n",
      "Title: N/A\n",
      "Rating: N/A\n",
      "Price: N/A\n",
      "--------------------------------------------------\n",
      "Title: Acer One 14 AMD Ryzen 3 3250U Processor (8GB RAM/512GB SSD/AMD Radeon Graphics/Windows 11 Home) Thin and Light Laptop Z2-493 with 35.56 cm (14.0\") HD Display\n",
      "Rating: \n",
      "Price: 27,999\n",
      "--------------------------------------------------\n",
      "Title: Lenovo IdeaPad Slim 5 13th Gen Intel Core i5 16\"(40.6cm) WUXGA IPS Laptop (16GB/512GB SSD/Win 11/Office 2021/Backlit KB/FHD Camera/Alexa/3 Month Game Pass/Cloud Grey/1.89Kg), 82XF003GIN\n",
      "Rating: \n",
      "Price: 71,990\n",
      "--------------------------------------------------\n",
      "Title: Acer Aspire Lite 11th Gen Intel Core i3 Premium Metal Laptop (8GB RAM/512GB SSD/Windows 11 Home) AL15-51, 39.62cm (15.6\") Full HD Display, Metal Body, Steel Gray, 1.59 Kg\n",
      "Rating: \n",
      "Price: 31,990\n",
      "--------------------------------------------------\n",
      "Title: HP Laptop 15s, Intel Celeron N4500, 15.6 inch(39.6cm) HD Laptop (8GB RAM,512GB SSD,Intel UHD Graphics,Dual Speakers,Numeric Keypad,Alexa,Win 11,MSO 21,Natural Silver,1.69 Kgs) 15s-fq3071TU\n",
      "Rating: \n",
      "Price: 28,990\n",
      "--------------------------------------------------\n",
      "Title: HP Laptop 15s, 12th Gen Intel Core i3-1215U, 15.6-inch (39.6 cm), FHD, 8GB DDR4, 512GB SSD, Intel UHD Graphics, Backlit KB, Thin & Light, Dual Speakers (Win 11, MSO 2021, Silver, 1.69 kg), fq5007TU\n",
      "Rating: \n",
      "Price: 40,927\n",
      "--------------------------------------------------\n",
      "Title: Lenovo [SmartChoice IdeaPad Gaming 3 Laptop Intel Core i5 11th Gen 15.6\" (39.62cm) FHD IPS (8GB/512GB SSD/4GB NVIDIA GTX 1650/120Hz/Win 11/Backlit/3months Game Pass/Shadow Black/2.25Kg), 82K101KGIN\n",
      "Rating: \n",
      "Price: 55,990\n",
      "--------------------------------------------------\n",
      "Title: Lenovo [SmartChoice IdeaPad Gaming 3 Laptop Intel Core i5 11th Gen 15.6\" (39.62cm) FHD IPS (8GB/512GB SSD/4GB NVIDIA GTX 1650/120Hz/Win 11/Backlit/3months Game Pass/Shadow Black/2.25Kg), 82K101KGIN\n",
      "Rating: \n",
      "Price: 55,990\n",
      "--------------------------------------------------\n",
      "Title: MSI GF63 Thin, Intel 11th Gen. i7-11800H, 40CM FHD 144Hz Gaming Laptop (8GB/512GB NVMe SSD/Windows 11 Home/NVIDIA RTX 3050 4GB GDDR6/Black/1.86Kg), 11UC-866IN\n",
      "Rating: \n",
      "Price: 63,240\n",
      "--------------------------------------------------\n"
     ]
    }
   ],
   "source": [
    "for i in range(10):\n",
    "    print(f'Title: {titles[i]}')\n",
    "    print(f'Rating: {ratings[i]}')\n",
    "    print(f'Price: {prices[i]}')\n",
    "    print('-' * 50)"
   ]
  },
  {
   "cell_type": "code",
   "execution_count": null,
   "id": "6f155743",
   "metadata": {},
   "outputs": [],
   "source": []
  },
  {
   "cell_type": "code",
   "execution_count": null,
   "id": "fb4806d7",
   "metadata": {},
   "outputs": [],
   "source": [
    "#Q8"
   ]
  },
  {
   "cell_type": "code",
   "execution_count": 172,
   "id": "b6ebb0a8",
   "metadata": {},
   "outputs": [],
   "source": [
    "from selenium import webdriver\n",
    "from selenium.webdriver.common.by import By\n",
    "from selenium.webdriver.common.keys import Keys"
   ]
  },
  {
   "cell_type": "code",
   "execution_count": 173,
   "id": "96f6c891",
   "metadata": {},
   "outputs": [],
   "source": [
    "driver=webdriver.Chrome()"
   ]
  },
  {
   "cell_type": "code",
   "execution_count": 174,
   "id": "d3488b82",
   "metadata": {},
   "outputs": [],
   "source": [
    "driver.get(\"https://www.azquotes.com/\")"
   ]
  },
  {
   "cell_type": "code",
   "execution_count": 176,
   "id": "900f333d",
   "metadata": {},
   "outputs": [],
   "source": [
    "\n",
    "top_quotes_link = driver.find_element(By.PARTIAL_LINK_TEXT, \"Top Quotes\")\n",
    "top_quotes_link.click()\n"
   ]
  },
  {
   "cell_type": "code",
   "execution_count": 177,
   "id": "df4c5395",
   "metadata": {},
   "outputs": [],
   "source": [
    "quotes = []\n",
    "authors = []\n",
    "types = []"
   ]
  },
  {
   "cell_type": "code",
   "execution_count": 182,
   "id": "a53e1045",
   "metadata": {},
   "outputs": [],
   "source": [
    "while len(quotes) < 1000:\n",
    "   \n",
    "    quote_elements = driver.find_elements(By.CLASS_NAME, \"title\")\n",
    "\n",
    "    for element in quote_elements:\n",
    "        quote = element.text.strip()\n",
    "        quotes.append(quote)\n"
   ]
  },
  {
   "cell_type": "code",
   "execution_count": 180,
   "id": "ab5de6b0",
   "metadata": {},
   "outputs": [],
   "source": [
    "author_elements = driver.find_elements(By.CLASS_NAME, \"author\")"
   ]
  },
  {
   "cell_type": "code",
   "execution_count": 181,
   "id": "f5d7b138",
   "metadata": {},
   "outputs": [],
   "source": [
    "authors = []"
   ]
  },
  {
   "cell_type": "code",
   "execution_count": 183,
   "id": "c0b60e1a",
   "metadata": {},
   "outputs": [],
   "source": [
    "for element in author_elements:\n",
    "    author = element.text.strip()  \n",
    "    authors.append(author) "
   ]
  },
  {
   "cell_type": "code",
   "execution_count": 185,
   "id": "b21e5fb3",
   "metadata": {},
   "outputs": [],
   "source": [
    "type_elements = driver.find_elements(By.CLASS_NAME, \"title-sub\")\n",
    "for element in type_elements:\n",
    "        quote_type = element.text.strip()\n",
    "        types.append(quote_type)"
   ]
  },
  {
   "cell_type": "code",
   "execution_count": 186,
   "id": "17cf24e8",
   "metadata": {},
   "outputs": [],
   "source": [
    " driver.find_element(By.TAG_NAME, 'body').send_keys(Keys.END)"
   ]
  },
  {
   "cell_type": "code",
   "execution_count": 188,
   "id": "151bbcdf",
   "metadata": {},
   "outputs": [
    {
     "name": "stdout",
     "output_type": "stream",
     "text": [
      "Quote: \n",
      "--------------------------------------------------\n",
      "Quote: \n",
      "--------------------------------------------------\n",
      "Quote: \n",
      "--------------------------------------------------\n",
      "Quote: \n",
      "--------------------------------------------------\n",
      "Quote: \n",
      "--------------------------------------------------\n",
      "Quote: \n",
      "--------------------------------------------------\n",
      "Quote: \n",
      "--------------------------------------------------\n",
      "Quote: \n",
      "--------------------------------------------------\n",
      "Quote: \n",
      "--------------------------------------------------\n",
      "Quote: \n",
      "--------------------------------------------------\n"
     ]
    }
   ],
   "source": [
    "\n",
    "for i in range(10):\n",
    "    if i < len(quotes):\n",
    "        print(f\"Quote: {quotes[i]}\")\n",
    "    if i < len(authors):\n",
    "        print(f\"Author: {authors[i]}\")\n",
    "    if i < len(types):\n",
    "        print(f\"Type: {types[i]}\")\n",
    "    print(\"-\" * 50)\n"
   ]
  },
  {
   "cell_type": "code",
   "execution_count": 189,
   "id": "ac7de1dd",
   "metadata": {},
   "outputs": [
    {
     "name": "stdout",
     "output_type": "stream",
     "text": [
      "Total Quotes Scraped: 1000\n"
     ]
    }
   ],
   "source": [
    "print(f\"Total Quotes Scraped: {len(quotes)}\")"
   ]
  },
  {
   "cell_type": "code",
   "execution_count": null,
   "id": "88bbd5a6",
   "metadata": {},
   "outputs": [],
   "source": []
  },
  {
   "cell_type": "code",
   "execution_count": null,
   "id": "b71005b3",
   "metadata": {},
   "outputs": [],
   "source": [
    "#Q9\n"
   ]
  },
  {
   "cell_type": "code",
   "execution_count": 197,
   "id": "4a8d4e20",
   "metadata": {},
   "outputs": [
    {
     "ename": "NoSuchWindowException",
     "evalue": "Message: no such window: target window already closed\nfrom unknown error: web view not found\n  (Session info: chrome=117.0.5938.92)\nStacktrace:\n\tGetHandleVerifier [0x00007FF6D1A17892+54818]\n\t(No symbol) [0x00007FF6D1986AC2]\n\t(No symbol) [0x00007FF6D183DA3B]\n\t(No symbol) [0x00007FF6D181DEE8]\n\t(No symbol) [0x00007FF6D18A3237]\n\t(No symbol) [0x00007FF6D18B6C6F]\n\t(No symbol) [0x00007FF6D189E883]\n\t(No symbol) [0x00007FF6D1873691]\n\t(No symbol) [0x00007FF6D18748D4]\n\tGetHandleVerifier [0x00007FF6D1D7B992+3610402]\n\tGetHandleVerifier [0x00007FF6D1DD1860+3962352]\n\tGetHandleVerifier [0x00007FF6D1DC9D4F+3930847]\n\tGetHandleVerifier [0x00007FF6D1AB3646+693206]\n\t(No symbol) [0x00007FF6D1991628]\n\t(No symbol) [0x00007FF6D198D934]\n\t(No symbol) [0x00007FF6D198DA62]\n\t(No symbol) [0x00007FF6D197E113]\n\tBaseThreadInitThunk [0x00007FFA5627257D+29]\n\tRtlUserThreadStart [0x00007FFA5748AA68+40]\n",
     "output_type": "error",
     "traceback": [
      "\u001b[1;31m---------------------------------------------------------------------------\u001b[0m",
      "\u001b[1;31mNoSuchWindowException\u001b[0m                     Traceback (most recent call last)",
      "\u001b[1;32m~\\AppData\\Local\\Temp\\ipykernel_18232\\363405864.py\u001b[0m in \u001b[0;36m<module>\u001b[1;34m\u001b[0m\n\u001b[0;32m     22\u001b[0m \u001b[1;33m\u001b[0m\u001b[0m\n\u001b[0;32m     23\u001b[0m \u001b[1;31m# Step 2: Click on the \"GK\" option (scroll to element before clicking)\u001b[0m\u001b[1;33m\u001b[0m\u001b[1;33m\u001b[0m\u001b[0m\n\u001b[1;32m---> 24\u001b[1;33m \u001b[0mgk_option\u001b[0m \u001b[1;33m=\u001b[0m \u001b[0mdriver\u001b[0m\u001b[1;33m.\u001b[0m\u001b[0mfind_element\u001b[0m\u001b[1;33m(\u001b[0m\u001b[0mBy\u001b[0m\u001b[1;33m.\u001b[0m\u001b[0mLINK_TEXT\u001b[0m\u001b[1;33m,\u001b[0m \u001b[1;34m\"GK\"\u001b[0m\u001b[1;33m)\u001b[0m\u001b[1;33m\u001b[0m\u001b[1;33m\u001b[0m\u001b[0m\n\u001b[0m\u001b[0;32m     25\u001b[0m \u001b[0mdriver\u001b[0m\u001b[1;33m.\u001b[0m\u001b[0mexecute_script\u001b[0m\u001b[1;33m(\u001b[0m\u001b[1;34m\"arguments[0].scrollIntoView();\"\u001b[0m\u001b[1;33m,\u001b[0m \u001b[0mgk_option\u001b[0m\u001b[1;33m)\u001b[0m\u001b[1;33m\u001b[0m\u001b[1;33m\u001b[0m\u001b[0m\n\u001b[0;32m     26\u001b[0m \u001b[0mgk_option\u001b[0m\u001b[1;33m.\u001b[0m\u001b[0mclick\u001b[0m\u001b[1;33m(\u001b[0m\u001b[1;33m)\u001b[0m\u001b[1;33m\u001b[0m\u001b[1;33m\u001b[0m\u001b[0m\n",
      "\u001b[1;32m~\\anaconda3\\lib\\site-packages\\selenium\\webdriver\\remote\\webdriver.py\u001b[0m in \u001b[0;36mfind_element\u001b[1;34m(self, by, value)\u001b[0m\n\u001b[0;32m    736\u001b[0m             \u001b[0mvalue\u001b[0m \u001b[1;33m=\u001b[0m \u001b[1;34mf'[name=\"{value}\"]'\u001b[0m\u001b[1;33m\u001b[0m\u001b[1;33m\u001b[0m\u001b[0m\n\u001b[0;32m    737\u001b[0m \u001b[1;33m\u001b[0m\u001b[0m\n\u001b[1;32m--> 738\u001b[1;33m         \u001b[1;32mreturn\u001b[0m \u001b[0mself\u001b[0m\u001b[1;33m.\u001b[0m\u001b[0mexecute\u001b[0m\u001b[1;33m(\u001b[0m\u001b[0mCommand\u001b[0m\u001b[1;33m.\u001b[0m\u001b[0mFIND_ELEMENT\u001b[0m\u001b[1;33m,\u001b[0m \u001b[1;33m{\u001b[0m\u001b[1;34m\"using\"\u001b[0m\u001b[1;33m:\u001b[0m \u001b[0mby\u001b[0m\u001b[1;33m,\u001b[0m \u001b[1;34m\"value\"\u001b[0m\u001b[1;33m:\u001b[0m \u001b[0mvalue\u001b[0m\u001b[1;33m}\u001b[0m\u001b[1;33m)\u001b[0m\u001b[1;33m[\u001b[0m\u001b[1;34m\"value\"\u001b[0m\u001b[1;33m]\u001b[0m\u001b[1;33m\u001b[0m\u001b[1;33m\u001b[0m\u001b[0m\n\u001b[0m\u001b[0;32m    739\u001b[0m \u001b[1;33m\u001b[0m\u001b[0m\n\u001b[0;32m    740\u001b[0m     \u001b[1;32mdef\u001b[0m \u001b[0mfind_elements\u001b[0m\u001b[1;33m(\u001b[0m\u001b[0mself\u001b[0m\u001b[1;33m,\u001b[0m \u001b[0mby\u001b[0m\u001b[1;33m=\u001b[0m\u001b[0mBy\u001b[0m\u001b[1;33m.\u001b[0m\u001b[0mID\u001b[0m\u001b[1;33m,\u001b[0m \u001b[0mvalue\u001b[0m\u001b[1;33m:\u001b[0m \u001b[0mOptional\u001b[0m\u001b[1;33m[\u001b[0m\u001b[0mstr\u001b[0m\u001b[1;33m]\u001b[0m \u001b[1;33m=\u001b[0m \u001b[1;32mNone\u001b[0m\u001b[1;33m)\u001b[0m \u001b[1;33m->\u001b[0m \u001b[0mList\u001b[0m\u001b[1;33m[\u001b[0m\u001b[0mWebElement\u001b[0m\u001b[1;33m]\u001b[0m\u001b[1;33m:\u001b[0m\u001b[1;33m\u001b[0m\u001b[1;33m\u001b[0m\u001b[0m\n",
      "\u001b[1;32m~\\anaconda3\\lib\\site-packages\\selenium\\webdriver\\remote\\webdriver.py\u001b[0m in \u001b[0;36mexecute\u001b[1;34m(self, driver_command, params)\u001b[0m\n\u001b[0;32m    342\u001b[0m         \u001b[0mresponse\u001b[0m \u001b[1;33m=\u001b[0m \u001b[0mself\u001b[0m\u001b[1;33m.\u001b[0m\u001b[0mcommand_executor\u001b[0m\u001b[1;33m.\u001b[0m\u001b[0mexecute\u001b[0m\u001b[1;33m(\u001b[0m\u001b[0mdriver_command\u001b[0m\u001b[1;33m,\u001b[0m \u001b[0mparams\u001b[0m\u001b[1;33m)\u001b[0m\u001b[1;33m\u001b[0m\u001b[1;33m\u001b[0m\u001b[0m\n\u001b[0;32m    343\u001b[0m         \u001b[1;32mif\u001b[0m \u001b[0mresponse\u001b[0m\u001b[1;33m:\u001b[0m\u001b[1;33m\u001b[0m\u001b[1;33m\u001b[0m\u001b[0m\n\u001b[1;32m--> 344\u001b[1;33m             \u001b[0mself\u001b[0m\u001b[1;33m.\u001b[0m\u001b[0merror_handler\u001b[0m\u001b[1;33m.\u001b[0m\u001b[0mcheck_response\u001b[0m\u001b[1;33m(\u001b[0m\u001b[0mresponse\u001b[0m\u001b[1;33m)\u001b[0m\u001b[1;33m\u001b[0m\u001b[1;33m\u001b[0m\u001b[0m\n\u001b[0m\u001b[0;32m    345\u001b[0m             \u001b[0mresponse\u001b[0m\u001b[1;33m[\u001b[0m\u001b[1;34m\"value\"\u001b[0m\u001b[1;33m]\u001b[0m \u001b[1;33m=\u001b[0m \u001b[0mself\u001b[0m\u001b[1;33m.\u001b[0m\u001b[0m_unwrap_value\u001b[0m\u001b[1;33m(\u001b[0m\u001b[0mresponse\u001b[0m\u001b[1;33m.\u001b[0m\u001b[0mget\u001b[0m\u001b[1;33m(\u001b[0m\u001b[1;34m\"value\"\u001b[0m\u001b[1;33m,\u001b[0m \u001b[1;32mNone\u001b[0m\u001b[1;33m)\u001b[0m\u001b[1;33m)\u001b[0m\u001b[1;33m\u001b[0m\u001b[1;33m\u001b[0m\u001b[0m\n\u001b[0;32m    346\u001b[0m             \u001b[1;32mreturn\u001b[0m \u001b[0mresponse\u001b[0m\u001b[1;33m\u001b[0m\u001b[1;33m\u001b[0m\u001b[0m\n",
      "\u001b[1;32m~\\anaconda3\\lib\\site-packages\\selenium\\webdriver\\remote\\errorhandler.py\u001b[0m in \u001b[0;36mcheck_response\u001b[1;34m(self, response)\u001b[0m\n\u001b[0;32m    227\u001b[0m                 \u001b[0malert_text\u001b[0m \u001b[1;33m=\u001b[0m \u001b[0mvalue\u001b[0m\u001b[1;33m[\u001b[0m\u001b[1;34m\"alert\"\u001b[0m\u001b[1;33m]\u001b[0m\u001b[1;33m.\u001b[0m\u001b[0mget\u001b[0m\u001b[1;33m(\u001b[0m\u001b[1;34m\"text\"\u001b[0m\u001b[1;33m)\u001b[0m\u001b[1;33m\u001b[0m\u001b[1;33m\u001b[0m\u001b[0m\n\u001b[0;32m    228\u001b[0m             \u001b[1;32mraise\u001b[0m \u001b[0mexception_class\u001b[0m\u001b[1;33m(\u001b[0m\u001b[0mmessage\u001b[0m\u001b[1;33m,\u001b[0m \u001b[0mscreen\u001b[0m\u001b[1;33m,\u001b[0m \u001b[0mstacktrace\u001b[0m\u001b[1;33m,\u001b[0m \u001b[0malert_text\u001b[0m\u001b[1;33m)\u001b[0m  \u001b[1;31m# type: ignore[call-arg]  # mypy is not smart enough here\u001b[0m\u001b[1;33m\u001b[0m\u001b[1;33m\u001b[0m\u001b[0m\n\u001b[1;32m--> 229\u001b[1;33m         \u001b[1;32mraise\u001b[0m \u001b[0mexception_class\u001b[0m\u001b[1;33m(\u001b[0m\u001b[0mmessage\u001b[0m\u001b[1;33m,\u001b[0m \u001b[0mscreen\u001b[0m\u001b[1;33m,\u001b[0m \u001b[0mstacktrace\u001b[0m\u001b[1;33m)\u001b[0m\u001b[1;33m\u001b[0m\u001b[1;33m\u001b[0m\u001b[0m\n\u001b[0m",
      "\u001b[1;31mNoSuchWindowException\u001b[0m: Message: no such window: target window already closed\nfrom unknown error: web view not found\n  (Session info: chrome=117.0.5938.92)\nStacktrace:\n\tGetHandleVerifier [0x00007FF6D1A17892+54818]\n\t(No symbol) [0x00007FF6D1986AC2]\n\t(No symbol) [0x00007FF6D183DA3B]\n\t(No symbol) [0x00007FF6D181DEE8]\n\t(No symbol) [0x00007FF6D18A3237]\n\t(No symbol) [0x00007FF6D18B6C6F]\n\t(No symbol) [0x00007FF6D189E883]\n\t(No symbol) [0x00007FF6D1873691]\n\t(No symbol) [0x00007FF6D18748D4]\n\tGetHandleVerifier [0x00007FF6D1D7B992+3610402]\n\tGetHandleVerifier [0x00007FF6D1DD1860+3962352]\n\tGetHandleVerifier [0x00007FF6D1DC9D4F+3930847]\n\tGetHandleVerifier [0x00007FF6D1AB3646+693206]\n\t(No symbol) [0x00007FF6D1991628]\n\t(No symbol) [0x00007FF6D198D934]\n\t(No symbol) [0x00007FF6D198DA62]\n\t(No symbol) [0x00007FF6D197E113]\n\tBaseThreadInitThunk [0x00007FFA5627257D+29]\n\tRtlUserThreadStart [0x00007FFA5748AA68+40]\n"
     ]
    }
   ],
   "source": [
    "from selenium import webdriver\n",
    "from selenium.webdriver.common.by import By\n",
    "from selenium.webdriver.common.keys import Keys\n",
    "from selenium.webdriver.support.ui import WebDriverWait\n",
    "from selenium.webdriver.support import expected_conditions as EC\n",
    "import pandas as pd\n",
    "\n",
    "# Initialize the Chrome webdriver\n",
    "driver = webdriver.Chrome()\n",
    "\n",
    "# Step 1: Get the webpage\n",
    "url = \"https://www.jagranjosh.com/\"\n",
    "driver.get(url)\n",
    "\n",
    "# Wait for the GDPR pop-up to disappear (if it's present)\n",
    "try:\n",
    "    gdpr_popup = WebDriverWait(driver, 10).until(\n",
    "        EC.invisibility_of_element_located((By.ID, \"gdprbx\"))\n",
    "    )\n",
    "except Exception:\n",
    "    pass\n",
    "\n",
    "# Step 2: Click on the \"GK\" option (scroll to element before clicking)\n",
    "gk_option = driver.find_element(By.LINK_TEXT, \"GK\")\n",
    "driver.execute_script(\"arguments[0].scrollIntoView();\", gk_option)\n",
    "gk_option.click()\n",
    "\n",
    "# Step 3: Click on \"List of all Prime Ministers of India\"\n",
    "pm_link = driver.find_element(By.PARTIAL_LINK_TEXT, \"List of all Prime Ministers of India\")\n",
    "pm_link.click()\n",
    "\n",
    "# Step 4: Scrape the data\n",
    "prime_ministers = []\n",
    "table = driver.find_element(By.XPATH, \"//table[@class='table table-bordered table-striped']/tbody\")\n",
    "rows = table.find_elements(By.TAG_NAME, \"tr\")\n",
    "\n",
    "for row in rows:\n",
    "    data = row.find_elements(By.TAG_NAME, \"td\")\n",
    "    if len(data) == 4:\n",
    "        name = data[0].text.strip()\n",
    "        born_dead = data[1].text.strip()\n",
    "        term_of_office = data[2].text.strip()\n",
    "        remarks = data[3].text.strip()\n",
    "\n",
    "        prime_ministers.append({\n",
    "            \"Name\": name,\n",
    "            \"Born-Dead\": born_dead,\n",
    "            \"Term of Office\": term_of_office,\n",
    "            \"Remarks\": remarks\n",
    "        })\n",
    "\n",
    "# Create a DataFrame\n",
    "df = pd.DataFrame(prime_ministers)\n",
    "\n",
    "# Print the DataFrame\n",
    "print(df)\n",
    "\n",
    "# Close the webdriver\n",
    "driver.quit()\n"
   ]
  },
  {
   "cell_type": "code",
   "execution_count": null,
   "id": "6a3b5564",
   "metadata": {},
   "outputs": [],
   "source": []
  },
  {
   "cell_type": "code",
   "execution_count": null,
   "id": "5fccc715",
   "metadata": {},
   "outputs": [],
   "source": []
  },
  {
   "cell_type": "code",
   "execution_count": null,
   "id": "ce75305b",
   "metadata": {},
   "outputs": [],
   "source": [
    "#Q10"
   ]
  },
  {
   "cell_type": "code",
   "execution_count": 199,
   "id": "b868ee5d",
   "metadata": {},
   "outputs": [],
   "source": [
    "\n",
    "from selenium import webdriver\n",
    "from selenium.webdriver.common.by import By\n",
    "import pandas as pd\n",
    "\n"
   ]
  },
  {
   "cell_type": "code",
   "execution_count": 200,
   "id": "95fce8e5",
   "metadata": {},
   "outputs": [],
   "source": [
    "driver = webdriver.Chrome()"
   ]
  },
  {
   "cell_type": "code",
   "execution_count": 201,
   "id": "299c225a",
   "metadata": {},
   "outputs": [],
   "source": [
    "url = \"https://www.motor1.com/\"\n",
    "driver.get(url)"
   ]
  },
  {
   "cell_type": "code",
   "execution_count": 204,
   "id": "8402418b",
   "metadata": {},
   "outputs": [],
   "source": [
    "search_bar = driver.find_element(By.NAME, \"q\")\n",
    "search_bar.send_keys(\"50 most expensive cars\")\n",
    "search_bar.submit()"
   ]
  },
  {
   "cell_type": "code",
   "execution_count": 206,
   "id": "4d62ffdd",
   "metadata": {},
   "outputs": [
    {
     "ename": "NoSuchElementException",
     "evalue": "Message: no such element: Unable to locate element: {\"method\":\"partial link text\",\"selector\":\"50 most expensive cars in the world\"}\n  (Session info: chrome=117.0.5938.92); For documentation on this error, please visit: https://www.selenium.dev/documentation/webdriver/troubleshooting/errors#no-such-element-exception\nStacktrace:\n\tGetHandleVerifier [0x00007FF6D1A17892+54818]\n\t(No symbol) [0x00007FF6D1986AC2]\n\t(No symbol) [0x00007FF6D183DA3B]\n\t(No symbol) [0x00007FF6D187E4FC]\n\t(No symbol) [0x00007FF6D187E67C]\n\t(No symbol) [0x00007FF6D18B9627]\n\t(No symbol) [0x00007FF6D189EAEF]\n\t(No symbol) [0x00007FF6D18B75A2]\n\t(No symbol) [0x00007FF6D189E883]\n\t(No symbol) [0x00007FF6D1873691]\n\t(No symbol) [0x00007FF6D18748D4]\n\tGetHandleVerifier [0x00007FF6D1D7B992+3610402]\n\tGetHandleVerifier [0x00007FF6D1DD1860+3962352]\n\tGetHandleVerifier [0x00007FF6D1DC9D4F+3930847]\n\tGetHandleVerifier [0x00007FF6D1AB3646+693206]\n\t(No symbol) [0x00007FF6D1991628]\n\t(No symbol) [0x00007FF6D198D934]\n\t(No symbol) [0x00007FF6D198DA62]\n\t(No symbol) [0x00007FF6D197E113]\n\tBaseThreadInitThunk [0x00007FFA5627257D+29]\n\tRtlUserThreadStart [0x00007FFA5748AA68+40]\n",
     "output_type": "error",
     "traceback": [
      "\u001b[1;31m---------------------------------------------------------------------------\u001b[0m",
      "\u001b[1;31mNoSuchElementException\u001b[0m                    Traceback (most recent call last)",
      "\u001b[1;32m~\\AppData\\Local\\Temp\\ipykernel_18232\\3181205523.py\u001b[0m in \u001b[0;36m<module>\u001b[1;34m\u001b[0m\n\u001b[1;32m----> 1\u001b[1;33m \u001b[0mexpensive_cars_link\u001b[0m \u001b[1;33m=\u001b[0m \u001b[0mdriver\u001b[0m\u001b[1;33m.\u001b[0m\u001b[0mfind_element\u001b[0m\u001b[1;33m(\u001b[0m\u001b[0mBy\u001b[0m\u001b[1;33m.\u001b[0m\u001b[0mPARTIAL_LINK_TEXT\u001b[0m\u001b[1;33m,\u001b[0m \u001b[1;34m\"50 most expensive cars in the world\"\u001b[0m\u001b[1;33m)\u001b[0m\u001b[1;33m\u001b[0m\u001b[1;33m\u001b[0m\u001b[0m\n\u001b[0m\u001b[0;32m      2\u001b[0m \u001b[0mexpensive_cars_link\u001b[0m\u001b[1;33m.\u001b[0m\u001b[0mclick\u001b[0m\u001b[1;33m(\u001b[0m\u001b[1;33m)\u001b[0m\u001b[1;33m\u001b[0m\u001b[1;33m\u001b[0m\u001b[0m\n",
      "\u001b[1;32m~\\anaconda3\\lib\\site-packages\\selenium\\webdriver\\remote\\webdriver.py\u001b[0m in \u001b[0;36mfind_element\u001b[1;34m(self, by, value)\u001b[0m\n\u001b[0;32m    736\u001b[0m             \u001b[0mvalue\u001b[0m \u001b[1;33m=\u001b[0m \u001b[1;34mf'[name=\"{value}\"]'\u001b[0m\u001b[1;33m\u001b[0m\u001b[1;33m\u001b[0m\u001b[0m\n\u001b[0;32m    737\u001b[0m \u001b[1;33m\u001b[0m\u001b[0m\n\u001b[1;32m--> 738\u001b[1;33m         \u001b[1;32mreturn\u001b[0m \u001b[0mself\u001b[0m\u001b[1;33m.\u001b[0m\u001b[0mexecute\u001b[0m\u001b[1;33m(\u001b[0m\u001b[0mCommand\u001b[0m\u001b[1;33m.\u001b[0m\u001b[0mFIND_ELEMENT\u001b[0m\u001b[1;33m,\u001b[0m \u001b[1;33m{\u001b[0m\u001b[1;34m\"using\"\u001b[0m\u001b[1;33m:\u001b[0m \u001b[0mby\u001b[0m\u001b[1;33m,\u001b[0m \u001b[1;34m\"value\"\u001b[0m\u001b[1;33m:\u001b[0m \u001b[0mvalue\u001b[0m\u001b[1;33m}\u001b[0m\u001b[1;33m)\u001b[0m\u001b[1;33m[\u001b[0m\u001b[1;34m\"value\"\u001b[0m\u001b[1;33m]\u001b[0m\u001b[1;33m\u001b[0m\u001b[1;33m\u001b[0m\u001b[0m\n\u001b[0m\u001b[0;32m    739\u001b[0m \u001b[1;33m\u001b[0m\u001b[0m\n\u001b[0;32m    740\u001b[0m     \u001b[1;32mdef\u001b[0m \u001b[0mfind_elements\u001b[0m\u001b[1;33m(\u001b[0m\u001b[0mself\u001b[0m\u001b[1;33m,\u001b[0m \u001b[0mby\u001b[0m\u001b[1;33m=\u001b[0m\u001b[0mBy\u001b[0m\u001b[1;33m.\u001b[0m\u001b[0mID\u001b[0m\u001b[1;33m,\u001b[0m \u001b[0mvalue\u001b[0m\u001b[1;33m:\u001b[0m \u001b[0mOptional\u001b[0m\u001b[1;33m[\u001b[0m\u001b[0mstr\u001b[0m\u001b[1;33m]\u001b[0m \u001b[1;33m=\u001b[0m \u001b[1;32mNone\u001b[0m\u001b[1;33m)\u001b[0m \u001b[1;33m->\u001b[0m \u001b[0mList\u001b[0m\u001b[1;33m[\u001b[0m\u001b[0mWebElement\u001b[0m\u001b[1;33m]\u001b[0m\u001b[1;33m:\u001b[0m\u001b[1;33m\u001b[0m\u001b[1;33m\u001b[0m\u001b[0m\n",
      "\u001b[1;32m~\\anaconda3\\lib\\site-packages\\selenium\\webdriver\\remote\\webdriver.py\u001b[0m in \u001b[0;36mexecute\u001b[1;34m(self, driver_command, params)\u001b[0m\n\u001b[0;32m    342\u001b[0m         \u001b[0mresponse\u001b[0m \u001b[1;33m=\u001b[0m \u001b[0mself\u001b[0m\u001b[1;33m.\u001b[0m\u001b[0mcommand_executor\u001b[0m\u001b[1;33m.\u001b[0m\u001b[0mexecute\u001b[0m\u001b[1;33m(\u001b[0m\u001b[0mdriver_command\u001b[0m\u001b[1;33m,\u001b[0m \u001b[0mparams\u001b[0m\u001b[1;33m)\u001b[0m\u001b[1;33m\u001b[0m\u001b[1;33m\u001b[0m\u001b[0m\n\u001b[0;32m    343\u001b[0m         \u001b[1;32mif\u001b[0m \u001b[0mresponse\u001b[0m\u001b[1;33m:\u001b[0m\u001b[1;33m\u001b[0m\u001b[1;33m\u001b[0m\u001b[0m\n\u001b[1;32m--> 344\u001b[1;33m             \u001b[0mself\u001b[0m\u001b[1;33m.\u001b[0m\u001b[0merror_handler\u001b[0m\u001b[1;33m.\u001b[0m\u001b[0mcheck_response\u001b[0m\u001b[1;33m(\u001b[0m\u001b[0mresponse\u001b[0m\u001b[1;33m)\u001b[0m\u001b[1;33m\u001b[0m\u001b[1;33m\u001b[0m\u001b[0m\n\u001b[0m\u001b[0;32m    345\u001b[0m             \u001b[0mresponse\u001b[0m\u001b[1;33m[\u001b[0m\u001b[1;34m\"value\"\u001b[0m\u001b[1;33m]\u001b[0m \u001b[1;33m=\u001b[0m \u001b[0mself\u001b[0m\u001b[1;33m.\u001b[0m\u001b[0m_unwrap_value\u001b[0m\u001b[1;33m(\u001b[0m\u001b[0mresponse\u001b[0m\u001b[1;33m.\u001b[0m\u001b[0mget\u001b[0m\u001b[1;33m(\u001b[0m\u001b[1;34m\"value\"\u001b[0m\u001b[1;33m,\u001b[0m \u001b[1;32mNone\u001b[0m\u001b[1;33m)\u001b[0m\u001b[1;33m)\u001b[0m\u001b[1;33m\u001b[0m\u001b[1;33m\u001b[0m\u001b[0m\n\u001b[0;32m    346\u001b[0m             \u001b[1;32mreturn\u001b[0m \u001b[0mresponse\u001b[0m\u001b[1;33m\u001b[0m\u001b[1;33m\u001b[0m\u001b[0m\n",
      "\u001b[1;32m~\\anaconda3\\lib\\site-packages\\selenium\\webdriver\\remote\\errorhandler.py\u001b[0m in \u001b[0;36mcheck_response\u001b[1;34m(self, response)\u001b[0m\n\u001b[0;32m    227\u001b[0m                 \u001b[0malert_text\u001b[0m \u001b[1;33m=\u001b[0m \u001b[0mvalue\u001b[0m\u001b[1;33m[\u001b[0m\u001b[1;34m\"alert\"\u001b[0m\u001b[1;33m]\u001b[0m\u001b[1;33m.\u001b[0m\u001b[0mget\u001b[0m\u001b[1;33m(\u001b[0m\u001b[1;34m\"text\"\u001b[0m\u001b[1;33m)\u001b[0m\u001b[1;33m\u001b[0m\u001b[1;33m\u001b[0m\u001b[0m\n\u001b[0;32m    228\u001b[0m             \u001b[1;32mraise\u001b[0m \u001b[0mexception_class\u001b[0m\u001b[1;33m(\u001b[0m\u001b[0mmessage\u001b[0m\u001b[1;33m,\u001b[0m \u001b[0mscreen\u001b[0m\u001b[1;33m,\u001b[0m \u001b[0mstacktrace\u001b[0m\u001b[1;33m,\u001b[0m \u001b[0malert_text\u001b[0m\u001b[1;33m)\u001b[0m  \u001b[1;31m# type: ignore[call-arg]  # mypy is not smart enough here\u001b[0m\u001b[1;33m\u001b[0m\u001b[1;33m\u001b[0m\u001b[0m\n\u001b[1;32m--> 229\u001b[1;33m         \u001b[1;32mraise\u001b[0m \u001b[0mexception_class\u001b[0m\u001b[1;33m(\u001b[0m\u001b[0mmessage\u001b[0m\u001b[1;33m,\u001b[0m \u001b[0mscreen\u001b[0m\u001b[1;33m,\u001b[0m \u001b[0mstacktrace\u001b[0m\u001b[1;33m)\u001b[0m\u001b[1;33m\u001b[0m\u001b[1;33m\u001b[0m\u001b[0m\n\u001b[0m",
      "\u001b[1;31mNoSuchElementException\u001b[0m: Message: no such element: Unable to locate element: {\"method\":\"partial link text\",\"selector\":\"50 most expensive cars in the world\"}\n  (Session info: chrome=117.0.5938.92); For documentation on this error, please visit: https://www.selenium.dev/documentation/webdriver/troubleshooting/errors#no-such-element-exception\nStacktrace:\n\tGetHandleVerifier [0x00007FF6D1A17892+54818]\n\t(No symbol) [0x00007FF6D1986AC2]\n\t(No symbol) [0x00007FF6D183DA3B]\n\t(No symbol) [0x00007FF6D187E4FC]\n\t(No symbol) [0x00007FF6D187E67C]\n\t(No symbol) [0x00007FF6D18B9627]\n\t(No symbol) [0x00007FF6D189EAEF]\n\t(No symbol) [0x00007FF6D18B75A2]\n\t(No symbol) [0x00007FF6D189E883]\n\t(No symbol) [0x00007FF6D1873691]\n\t(No symbol) [0x00007FF6D18748D4]\n\tGetHandleVerifier [0x00007FF6D1D7B992+3610402]\n\tGetHandleVerifier [0x00007FF6D1DD1860+3962352]\n\tGetHandleVerifier [0x00007FF6D1DC9D4F+3930847]\n\tGetHandleVerifier [0x00007FF6D1AB3646+693206]\n\t(No symbol) [0x00007FF6D1991628]\n\t(No symbol) [0x00007FF6D198D934]\n\t(No symbol) [0x00007FF6D198DA62]\n\t(No symbol) [0x00007FF6D197E113]\n\tBaseThreadInitThunk [0x00007FFA5627257D+29]\n\tRtlUserThreadStart [0x00007FFA5748AA68+40]\n"
     ]
    }
   ],
   "source": [
    "expensive_cars_link = driver.find_element(By.PARTIAL_LINK_TEXT, \"50 most expensive cars in the world\")\n",
    "expensive_cars_link.click()\n"
   ]
  },
  {
   "cell_type": "code",
   "execution_count": 208,
   "id": "678fd935",
   "metadata": {},
   "outputs": [],
   "source": [
    "car_data = []\n",
    "car_elements = driver.find_elements(By.CSS_SELECTOR, \".overview-title\")\n",
    "price_elements = driver.find_elements(By.CSS_SELECTOR, \".overview-price\")\n",
    "\n",
    "for car, price in zip(car_elements, price_elements):\n",
    "    car_name = car.text\n",
    "    car_price = price.text\n",
    "\n",
    "    car_data.append({\n",
    "        \"Car Name\": car_name,\n",
    "        \"Price\": car_price\n",
    "    })\n"
   ]
  },
  {
   "cell_type": "code",
   "execution_count": 209,
   "id": "67d7797c",
   "metadata": {},
   "outputs": [],
   "source": [
    "df = pd.DataFrame(car_data)"
   ]
  },
  {
   "cell_type": "code",
   "execution_count": 210,
   "id": "c3ab591c",
   "metadata": {},
   "outputs": [
    {
     "name": "stdout",
     "output_type": "stream",
     "text": [
      "Empty DataFrame\n",
      "Columns: []\n",
      "Index: []\n"
     ]
    }
   ],
   "source": [
    "print(df)"
   ]
  },
  {
   "cell_type": "code",
   "execution_count": null,
   "id": "38447672",
   "metadata": {},
   "outputs": [],
   "source": []
  }
 ],
 "metadata": {
  "kernelspec": {
   "display_name": "Python 3 (ipykernel)",
   "language": "python",
   "name": "python3"
  },
  "language_info": {
   "codemirror_mode": {
    "name": "ipython",
    "version": 3
   },
   "file_extension": ".py",
   "mimetype": "text/x-python",
   "name": "python",
   "nbconvert_exporter": "python",
   "pygments_lexer": "ipython3",
   "version": "3.9.13"
  }
 },
 "nbformat": 4,
 "nbformat_minor": 5
}
